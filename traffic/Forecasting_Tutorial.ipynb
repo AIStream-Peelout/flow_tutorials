{
  "nbformat": 4,
  "nbformat_minor": 0,
  "metadata": {
    "colab": {
      "name": "Forecasting-Tutorial.ipynb",
      "provenance": [],
      "collapsed_sections": [],
      "toc_visible": true
    },
    "kernelspec": {
      "name": "python3",
      "display_name": "Python 3"
    },
    "widgets": {
      "application/vnd.jupyter.widget-state+json": {
        "5e3d9174d5244b78b6461e87210337d7": {
          "model_module": "@jupyter-widgets/controls",
          "model_name": "VBoxModel",
          "model_module_version": "1.5.0",
          "state": {
            "_view_name": "VBoxView",
            "_dom_classes": [],
            "_model_name": "VBoxModel",
            "_view_module": "@jupyter-widgets/controls",
            "_model_module_version": "1.5.0",
            "_view_count": null,
            "_view_module_version": "1.5.0",
            "box_style": "",
            "layout": "IPY_MODEL_a1e8df85055442878236ad8c52acb102",
            "_model_module": "@jupyter-widgets/controls",
            "children": [
              "IPY_MODEL_8c20704c9dea4edaa1a227b26c51971d",
              "IPY_MODEL_f432fe17fcd444088ca82fd41d02704b"
            ]
          }
        },
        "a1e8df85055442878236ad8c52acb102": {
          "model_module": "@jupyter-widgets/base",
          "model_name": "LayoutModel",
          "model_module_version": "1.2.0",
          "state": {
            "_view_name": "LayoutView",
            "grid_template_rows": null,
            "right": null,
            "justify_content": null,
            "_view_module": "@jupyter-widgets/base",
            "overflow": null,
            "_model_module_version": "1.2.0",
            "_view_count": null,
            "flex_flow": null,
            "width": null,
            "min_width": null,
            "border": null,
            "align_items": null,
            "bottom": null,
            "_model_module": "@jupyter-widgets/base",
            "top": null,
            "grid_column": null,
            "overflow_y": null,
            "overflow_x": null,
            "grid_auto_flow": null,
            "grid_area": null,
            "grid_template_columns": null,
            "flex": null,
            "_model_name": "LayoutModel",
            "justify_items": null,
            "grid_row": null,
            "max_height": null,
            "align_content": null,
            "visibility": null,
            "align_self": null,
            "height": null,
            "min_height": null,
            "padding": null,
            "grid_auto_rows": null,
            "grid_gap": null,
            "max_width": null,
            "order": null,
            "_view_module_version": "1.2.0",
            "grid_template_areas": null,
            "object_position": null,
            "object_fit": null,
            "grid_auto_columns": null,
            "margin": null,
            "display": null,
            "left": null
          }
        },
        "8c20704c9dea4edaa1a227b26c51971d": {
          "model_module": "@jupyter-widgets/controls",
          "model_name": "LabelModel",
          "model_module_version": "1.5.0",
          "state": {
            "_view_name": "LabelView",
            "style": "IPY_MODEL_209c1c86bff94fe4a5c0c3ff98fada93",
            "_dom_classes": [],
            "description": "",
            "_model_name": "LabelModel",
            "placeholder": "​",
            "_view_module": "@jupyter-widgets/controls",
            "_model_module_version": "1.5.0",
            "value": " 0.02MB of 0.09MB uploaded (0.00MB deduped)\r",
            "_view_count": null,
            "_view_module_version": "1.5.0",
            "description_tooltip": null,
            "_model_module": "@jupyter-widgets/controls",
            "layout": "IPY_MODEL_5bdc747ca4d14a019ef44ce1f43e8d86"
          }
        },
        "f432fe17fcd444088ca82fd41d02704b": {
          "model_module": "@jupyter-widgets/controls",
          "model_name": "FloatProgressModel",
          "model_module_version": "1.5.0",
          "state": {
            "_view_name": "ProgressView",
            "style": "IPY_MODEL_64098dc7291847089084b28b0d8cd7ee",
            "_dom_classes": [],
            "description": "",
            "_model_name": "FloatProgressModel",
            "bar_style": "",
            "max": 1,
            "_view_module": "@jupyter-widgets/controls",
            "_model_module_version": "1.5.0",
            "value": 0.19096893507408466,
            "_view_count": null,
            "_view_module_version": "1.5.0",
            "orientation": "horizontal",
            "min": 0,
            "description_tooltip": null,
            "_model_module": "@jupyter-widgets/controls",
            "layout": "IPY_MODEL_b18a06411eb14078a355775b0ff21af8"
          }
        },
        "209c1c86bff94fe4a5c0c3ff98fada93": {
          "model_module": "@jupyter-widgets/controls",
          "model_name": "DescriptionStyleModel",
          "model_module_version": "1.5.0",
          "state": {
            "_view_name": "StyleView",
            "_model_name": "DescriptionStyleModel",
            "description_width": "",
            "_view_module": "@jupyter-widgets/base",
            "_model_module_version": "1.5.0",
            "_view_count": null,
            "_view_module_version": "1.2.0",
            "_model_module": "@jupyter-widgets/controls"
          }
        },
        "5bdc747ca4d14a019ef44ce1f43e8d86": {
          "model_module": "@jupyter-widgets/base",
          "model_name": "LayoutModel",
          "model_module_version": "1.2.0",
          "state": {
            "_view_name": "LayoutView",
            "grid_template_rows": null,
            "right": null,
            "justify_content": null,
            "_view_module": "@jupyter-widgets/base",
            "overflow": null,
            "_model_module_version": "1.2.0",
            "_view_count": null,
            "flex_flow": null,
            "width": null,
            "min_width": null,
            "border": null,
            "align_items": null,
            "bottom": null,
            "_model_module": "@jupyter-widgets/base",
            "top": null,
            "grid_column": null,
            "overflow_y": null,
            "overflow_x": null,
            "grid_auto_flow": null,
            "grid_area": null,
            "grid_template_columns": null,
            "flex": null,
            "_model_name": "LayoutModel",
            "justify_items": null,
            "grid_row": null,
            "max_height": null,
            "align_content": null,
            "visibility": null,
            "align_self": null,
            "height": null,
            "min_height": null,
            "padding": null,
            "grid_auto_rows": null,
            "grid_gap": null,
            "max_width": null,
            "order": null,
            "_view_module_version": "1.2.0",
            "grid_template_areas": null,
            "object_position": null,
            "object_fit": null,
            "grid_auto_columns": null,
            "margin": null,
            "display": null,
            "left": null
          }
        },
        "64098dc7291847089084b28b0d8cd7ee": {
          "model_module": "@jupyter-widgets/controls",
          "model_name": "ProgressStyleModel",
          "model_module_version": "1.5.0",
          "state": {
            "_view_name": "StyleView",
            "_model_name": "ProgressStyleModel",
            "description_width": "",
            "_view_module": "@jupyter-widgets/base",
            "_model_module_version": "1.5.0",
            "_view_count": null,
            "_view_module_version": "1.2.0",
            "bar_color": null,
            "_model_module": "@jupyter-widgets/controls"
          }
        },
        "b18a06411eb14078a355775b0ff21af8": {
          "model_module": "@jupyter-widgets/base",
          "model_name": "LayoutModel",
          "model_module_version": "1.2.0",
          "state": {
            "_view_name": "LayoutView",
            "grid_template_rows": null,
            "right": null,
            "justify_content": null,
            "_view_module": "@jupyter-widgets/base",
            "overflow": null,
            "_model_module_version": "1.2.0",
            "_view_count": null,
            "flex_flow": null,
            "width": null,
            "min_width": null,
            "border": null,
            "align_items": null,
            "bottom": null,
            "_model_module": "@jupyter-widgets/base",
            "top": null,
            "grid_column": null,
            "overflow_y": null,
            "overflow_x": null,
            "grid_auto_flow": null,
            "grid_area": null,
            "grid_template_columns": null,
            "flex": null,
            "_model_name": "LayoutModel",
            "justify_items": null,
            "grid_row": null,
            "max_height": null,
            "align_content": null,
            "visibility": null,
            "align_self": null,
            "height": null,
            "min_height": null,
            "padding": null,
            "grid_auto_rows": null,
            "grid_gap": null,
            "max_width": null,
            "order": null,
            "_view_module_version": "1.2.0",
            "grid_template_areas": null,
            "object_position": null,
            "object_fit": null,
            "grid_auto_columns": null,
            "margin": null,
            "display": null,
            "left": null
          }
        }
      }
    }
  },
  "cells": [
    {
      "cell_type": "markdown",
      "metadata": {
        "id": "t9b_Y_5uj6W3"
      },
      "source": [
        "# Basic Traffic Forecasting Tutorial\n",
        "In this tutorial we use the Flow Forecast library to preform some basic traffic flow forecasting. In other notebooks we will go over how to use saved models and more complex parameter configurations.\n",
        "\n",
        " Flow Forecast is a general purpose deep learning for times series forecasting package written in PyTorch. "
      ]
    },
    {
      "cell_type": "code",
      "metadata": {
        "id": "dXuhxAJDnK6S"
      },
      "source": [
        "!git clone http://github.com/AIStream-Peelout/flow-forecast #-b remove_versions # You can use a custom branch\n",
        "import os \n",
        "os.chdir('flow-forecast')\n",
        "!pip install -r requirements.txt\n",
        "!python setup.py install develop\n",
        "from flood_forecast.trainer import train_function"
      ],
      "execution_count": null,
      "outputs": []
    },
    {
      "cell_type": "markdown",
      "metadata": {
        "id": "00_XgTPmkgpq"
      },
      "source": [
        "## Step One: Install and authenticate\n",
        "In this first step we need to install the library and authenticate with Weights and Biases. Additionally, our code features built in GCP integration."
      ]
    },
    {
      "cell_type": "code",
      "metadata": {
        "id": "uJYPL3NFj2kJ"
      },
      "source": [
        "#!pip install --upgrade --force-reinstall wandb\n",
        "!wandb login\n",
        "# If you want to have your weights and JSON files stashed automatically uncomment\n",
        "# os.environ[\"MODEL_BUCKET\"] = \"my-gcp-bucket-name\"\n",
        "# os.environ[\"ENVIRONMENT_GCP\"] = \"Colab\"\n",
        "# os.environ[\"GCP_PROJECT\"] = \"project_id\"\n"
      ],
      "execution_count": null,
      "outputs": []
    },
    {
      "cell_type": "code",
      "metadata": {
        "id": "tex_BTFj9lwJ",
        "colab": {
          "base_uri": "https://localhost:8080/",
          "height": 230
        },
        "outputId": "1f64aedb-b17f-436c-8c68-9319c14669f5"
      },
      "source": [
        "!wget -O train.csv https://raw.githubusercontent.com/xiaochus/TrafficFlowPrediction/master/data/train.csv "
      ],
      "execution_count": null,
      "outputs": [
        {
          "output_type": "stream",
          "text": [
            "--2020-10-16 17:36:22--  https://raw.githubusercontent.com/xiaochus/TrafficFlowPrediction/master/data/train.csv\n",
            "Resolving raw.githubusercontent.com (raw.githubusercontent.com)... 151.101.0.133, 151.101.64.133, 151.101.128.133, ...\n",
            "Connecting to raw.githubusercontent.com (raw.githubusercontent.com)|151.101.0.133|:443... connected.\n",
            "HTTP request sent, awaiting response... 200 OK\n",
            "Length: 199681 (195K) [text/plain]\n",
            "Saving to: ‘train.csv’\n",
            "\n",
            "train.csv           100%[===================>] 195.00K  --.-KB/s    in 0.05s   \n",
            "\n",
            "2020-10-16 17:36:23 (3.77 MB/s) - ‘train.csv’ saved [199681/199681]\n",
            "\n"
          ],
          "name": "stdout"
        }
      ]
    },
    {
      "cell_type": "code",
      "metadata": {
        "id": "sUWXWo229zLQ"
      },
      "source": [
        "# We will preform very basic data techniques to just get the weekday.\n",
        "import pandas as pd\n",
        "import datetime as datetime\n",
        "df = pd.read_csv(\"train.csv\")\n",
        "df[\"day_of_week\"] = df[\"5 Minutes\"].map(lambda x: datetime.datetime.strptime(x, '%d/%m/%Y %H:%M').weekday())\n",
        "df[\"datetime\"] = df['5 Minutes']"
      ],
      "execution_count": null,
      "outputs": []
    },
    {
      "cell_type": "code",
      "metadata": {
        "id": "n-aUhXYV_2CE"
      },
      "source": [
        "df.to_csv('train.csv')\n",
        "# Truly bizzare error? WTF?"
      ],
      "execution_count": null,
      "outputs": []
    },
    {
      "cell_type": "markdown",
      "metadata": {
        "id": "87aZWBi9qobl"
      },
      "source": [
        "## Step Two Define the Configuration File\n",
        "Now that we have everything installed and our data properly working. We need to define a configuration file. The configuration files is composed of three major required sub-parts: model_params, dataset_params, inference_params. The other major part that is required is the name of the model and the model type. \n",
        "\n",
        "Flow Forecast uses configuration files because they enable reproducible results.With the JSON file you can easily see all the parameters that you specify to your model and the configuration is logged to W&B and/or saved locally. This is a purposeful design choice as many other libraries it becomes difficult to manage parameters which results in un-reproducible results."
      ]
    },
    {
      "cell_type": "code",
      "metadata": {
        "id": "-DXEroYRqslD"
      },
      "source": [
        "def make_config_file(file_path, train_end, valid_end):\n",
        "  run = wandb.init(project=\"library_demos\")\n",
        "  wandb_config = wandb.config\n",
        "  config_default={                 \n",
        "    \"model_name\": \"MultiAttnHeadSimple\",\n",
        "    \"model_type\": \"PyTorch\",\n",
        "    \"model_params\": {\n",
        "      \"number_time_series\":2,\n",
        "      \"seq_len\":wandb_config[\"forecast_history\"], \n",
        "      \"output_seq_len\":wandb_config[\"out_seq_length\"],\n",
        "      \"forecast_length\":wandb_config[\"out_seq_length\"]\n",
        "     },\n",
        "    \"dataset_params\":\n",
        "    {  \"class\": \"default\",\n",
        "       \"training_path\": file_path,\n",
        "       \"validation_path\": file_path,\n",
        "       \"test_path\": file_path,\n",
        "       \"batch_size\":wandb_config[\"batch_size\"],\n",
        "       \"forecast_history\":wandb_config[\"forecast_history\"],\n",
        "       \"forecast_length\":wandb_config[\"out_seq_length\"],\n",
        "       \"train_end\": train_end,\n",
        "       \"valid_start\":int(train_end+1),\n",
        "       \"valid_end\": int(valid_end),\n",
        "       \"test_start\":int(valid_end) + 1,\n",
        "       \"target_col\": [\"Lane 1 Flow (Veh/5 Minutes)\"],\n",
        "       \"relevant_cols\": [\"Lane 1 Flow (Veh/5 Minutes)\", \"day_of_week\"],\n",
        "       \"scaler\": \"StandardScaler\", \n",
        "       \"interpolate\": False\n",
        "    },\n",
        "    \"training_params\":\n",
        "    {\n",
        "       \"criterion\":\"MSE\",\n",
        "       \"optimizer\": \"Adam\",\n",
        "       \"optim_params\":\n",
        "       {\n",
        "\n",
        "       },\n",
        "       \"lr\": wandb_config[\"lr\"],\n",
        "       \"epochs\": 10,\n",
        "       \"batch_size\":wandb_config[\"batch_size\"]\n",
        "    },\n",
        "    \"GCS\": False,\n",
        "    \"sweep\":True,\n",
        "    \"wandb\":False,\n",
        "    \"forward_params\":{},\n",
        "   \"metrics\":[\"MSE\"],\n",
        "   \"inference_params\":\n",
        "   {     t\n",
        "         \"datetime_start\":\"2016-02-24\",\n",
        "          \"hours_to_forecast\":150, \n",
        "          \"test_csv_path\":file_path,\n",
        "          \"decoder_params\":{\n",
        "              \"decoder_function\": \"simple_decode\", \n",
        "            \"unsqueeze_dim\": 1\n",
        "          },\n",
        "          \"dataset_params\":{\n",
        "             \"file_path\": file_path,\n",
        "             \"forecast_history\":wandb_config[\"forecast_history\"],\n",
        "             \"forecast_length\":wandb_config[\"out_seq_length\"],\n",
        "             \"relevant_cols\": [\"Lane 1 Flow (Veh/5 Minutes)\", \"day_of_week\"],\n",
        "             \"target_col\": [\"Lane 1 Flow (Veh/5 Minutes)\"],\n",
        "             \"scaling\": \"StandardScaler\",\n",
        "             \"interpolate_param\": False\n",
        "          }\n",
        "      }\n",
        "  }\n",
        "  wandb.config.update(config_default)\n",
        "  return config_default"
      ],
      "execution_count": null,
      "outputs": []
    },
    {
      "cell_type": "markdown",
      "metadata": {
        "id": "e4lYINOCXJh7"
      },
      "source": [
        "So I'll briefly explain what is going on in this config file.  "
      ]
    },
    {
      "cell_type": "markdown",
      "metadata": {
        "id": "3T4ghxiJstAZ"
      },
      "source": [
        "## Step Three Define Wandb Sweep Config\n",
        "Now that we have our global configugration we define a second configuration of values we want to sweep over. You can find out more about Weights and Biases sweeps from their website. In this file we include all the parameters we want to sweep over. "
      ]
    },
    {
      "cell_type": "code",
      "metadata": {
        "id": "kwKRfeXhyDFg"
      },
      "source": [
        "sweep_config = {\n",
        "  \"name\": \"Default sweep\",\n",
        "  \"method\": \"random\",\n",
        "  \"parameters\": {\n",
        "        \"batch_size\": {\n",
        "            \"values\": [2, 3, 4]\n",
        "        },\n",
        "        \"lr\":{\n",
        "            \"values\":[0.001, 0.01]\n",
        "        },\n",
        "        \"forecast_history\":{\n",
        "            \"values\":[1, 2, 3, 5]\n",
        "        },\n",
        "        \"out_seq_length\":{\n",
        "            \"values\":[1, 2, 3, 4]\n",
        "        }\n",
        "    }\n",
        "}"
      ],
      "execution_count": null,
      "outputs": []
    },
    {
      "cell_type": "markdown",
      "metadata": {
        "id": "DzwkdUIKyHQQ"
      },
      "source": [
        "## Step Four: Run code and log results\n",
        "Now that we have both config files it is time to train our model and log the results to Weights and Biases to analyze later."
      ]
    },
    {
      "cell_type": "code",
      "metadata": {
        "id": "HMRG0EnyyJYD",
        "colab": {
          "base_uri": "https://localhost:8080/",
          "height": 1000,
          "referenced_widgets": [
            "5e3d9174d5244b78b6461e87210337d7",
            "a1e8df85055442878236ad8c52acb102",
            "8c20704c9dea4edaa1a227b26c51971d",
            "f432fe17fcd444088ca82fd41d02704b",
            "209c1c86bff94fe4a5c0c3ff98fada93",
            "5bdc747ca4d14a019ef44ce1f43e8d86",
            "64098dc7291847089084b28b0d8cd7ee",
            "b18a06411eb14078a355775b0ff21af8"
          ]
        },
        "outputId": "2acbed0c-9921-4502-f6a5-aff66a04fa5c"
      },
      "source": [
        "from flood_forecast.trainer import train_function\n",
        "import wandb\n",
        "sweep_id = wandb.sweep(sweep_config)\n",
        "os.environ[\"SWEEP_ID\"] = sweep_id\n",
        "#!wandb agent $SWEEP_ID\n",
        "wandb.agent(sweep_id, lambda: train_function(\"PyTorch\", make_config_file(\"train.csv\", 4500, 6000)) )\n",
        "#_secretagent(sweep_id, lambda: train_function(\"PyTorch\", make_config_file(\"train.csv\", 4500, 6000)))"
      ],
      "execution_count": null,
      "outputs": [
        {
          "output_type": "stream",
          "text": [
            "Create sweep with ID: du7xfwi9\n",
            "Sweep URL: https://wandb.ai/igodfried/uncategorized/sweeps/du7xfwi9\n"
          ],
          "name": "stdout"
        },
        {
          "output_type": "stream",
          "text": [
            "\u001b[34m\u001b[1mwandb\u001b[0m: Agent Starting Run: yroy12mh with config:\n",
            "\u001b[34m\u001b[1mwandb\u001b[0m: \tbatch_size: 3\n",
            "\u001b[34m\u001b[1mwandb\u001b[0m: \tforecast_history: 3\n",
            "\u001b[34m\u001b[1mwandb\u001b[0m: \tlr: 0.01\n",
            "\u001b[34m\u001b[1mwandb\u001b[0m: \tout_seq_length: 1\n",
            "\u001b[34m\u001b[1mwandb\u001b[0m: Currently logged in as: \u001b[33migodfried\u001b[0m (use `wandb login --relogin` to force relogin)\n",
            "\u001b[34m\u001b[1mwandb\u001b[0m: \u001b[33mWARNING\u001b[0m Ignored wandb.init() arg project when running a sweep\n"
          ],
          "name": "stderr"
        },
        {
          "output_type": "display_data",
          "data": {
            "text/html": [
              "\n",
              "                Tracking run with wandb version 0.10.7<br/>\n",
              "                Syncing run <strong style=\"color:#cdcd00\">fresh-sweep-1</strong> to <a href=\"https://wandb.ai\" target=\"_blank\">Weights & Biases</a> <a href=\"https://docs.wandb.com/integrations/jupyter.html\" target=\"_blank\">(Documentation)</a>.<br/>\n",
              "                Project page: <a href=\"https://wandb.ai/igodfried/uncategorized\" target=\"_blank\">https://wandb.ai/igodfried/uncategorized</a><br/>\n",
              "                Sweep page: <a href=\"https://wandb.ai/igodfried/uncategorized/sweeps/du7xfwi9\" target=\"_blank\">https://wandb.ai/igodfried/uncategorized/sweeps/du7xfwi9</a><br/>\n",
              "Run page: <a href=\"https://wandb.ai/igodfried/uncategorized/runs/yroy12mh\" target=\"_blank\">https://wandb.ai/igodfried/uncategorized/runs/yroy12mh</a><br/>\n",
              "                Run data is saved locally in <code>wandb/run-20201016_190343-yroy12mh</code><br/><br/>\n",
              "            "
            ],
            "text/plain": [
              "<IPython.core.display.HTML object>"
            ]
          },
          "metadata": {
            "tags": []
          }
        },
        {
          "output_type": "stream",
          "text": [
            "interpolate should be below\n",
            "Now loading and scaling train.csv\n",
            "interpolate should be below\n",
            "Now loading and scaling train.csv\n",
            "interpolate should be below\n",
            "Now loading and scaling train.csv\n",
            "Using Wandb config:\n",
            "{'batch_size': 3, 'forecast_history': 3, 'lr': 0.01, 'out_seq_length': 1, 'model_name': 'MultiAttnHeadSimple', 'model_type': 'PyTorch', 'model_params': {'number_time_series': 2, 'seq_len': 3, 'output_seq_len': 1, 'forecast_length': 1}, 'dataset_params': {'class': 'default', 'training_path': 'train.csv', 'validation_path': 'train.csv', 'test_path': 'train.csv', 'batch_size': 3, 'forecast_history': 3, 'forecast_length': 1, 'train_end': 4500, 'valid_start': 4501, 'valid_end': 6000, 'test_start': 6001, 'target_col': ['Lane 1 Flow (Veh/5 Minutes)'], 'relevant_cols': ['Lane 1 Flow (Veh/5 Minutes)', 'day_of_week'], 'scaler': 'StandardScaler', 'interpolate': False}, 'training_params': {'criterion': 'MSE', 'optimizer': 'Adam', 'optim_params': {}, 'lr': 0.01, 'epochs': 10, 'batch_size': 3}, 'GCS': False, 'sweep': True, 'wandb': False, 'forward_params': {}, 'metrics': ['MSE'], 'inference_params': {'datetime_start': '2016-02-24', 'hours_to_forecast': 150, 'test_csv_path': 'train.csv', 'decoder_params': {'decoder_function': 'simple_decode', 'unsqueeze_dim': 1}, 'dataset_params': {'file_path': 'train.csv', 'forecast_history': 3, 'forecast_length': 1, 'relevant_cols': ['Lane 1 Flow (Veh/5 Minutes)', 'day_of_week'], 'target_col': ['Lane 1 Flow (Veh/5 Minutes)'], 'scaling': 'StandardScaler', 'interpolate_param': False}}}\n",
            "Torch is using cpu\n",
            "The running loss is:\n",
            "346.3930011964985\n",
            "The number of items in train is: \n",
            "1499\n",
            "The loss for epoch 0\n",
            "0.23108272261274085\n",
            "The running loss is:\n",
            "271.7653344034916\n",
            "The number of items in train is: \n",
            "1499\n",
            "The loss for epoch 1\n",
            "0.18129775477217583\n",
            "The running loss is:\n",
            "258.4626573446003\n",
            "The number of items in train is: \n",
            "1499\n",
            "The loss for epoch 2\n",
            "0.1724233871545032\n",
            "The running loss is:\n",
            "244.64481865828566\n",
            "The number of items in train is: \n",
            "1499\n",
            "The loss for epoch 3\n",
            "0.16320534933841604\n",
            "The running loss is:\n",
            "246.6808822118328\n",
            "The number of items in train is: \n",
            "1499\n",
            "The loss for epoch 4\n",
            "0.16456363056159626\n",
            "The running loss is:\n",
            "233.41497147659538\n",
            "The number of items in train is: \n",
            "1499\n",
            "The loss for epoch 5\n",
            "0.1557137901778488\n",
            "The running loss is:\n",
            "234.01512087491574\n",
            "The number of items in train is: \n",
            "1499\n",
            "The loss for epoch 6\n",
            "0.15611415668773565\n",
            "The running loss is:\n",
            "229.01432381020277\n",
            "The number of items in train is: \n",
            "1499\n",
            "The loss for epoch 7\n",
            "0.15277806791874768\n",
            "The running loss is:\n",
            "227.3937434356485\n",
            "The number of items in train is: \n",
            "1499\n",
            "The loss for epoch 8\n",
            "0.15169696026394164\n",
            "The running loss is:\n",
            "229.2003503689325\n",
            "The number of items in train is: \n",
            "1499\n",
            "The loss for epoch 9\n",
            "0.15290216835819379\n",
            "test loss: 0.12472433484646236\n",
            "interpolate should be below\n",
            "Now loading and scaling train.csv\n",
            "CSV Path below\n",
            "train.csv\n",
            "torch.Size([1, 3, 2])\n",
            "Add debugging crap below\n",
            "test_data scale\n",
            "Un-transforming data\n",
            "end_tensor tensor([102.8305, 102.5023, 103.1703, 101.5699, 101.1444, 100.7060,  99.9479,\n",
            "         99.4229,  98.8752,  98.2960,  97.7689,  97.2429,  96.7240,  96.2236,\n",
            "         95.7320,  95.2513,  94.7826,  94.3240,  93.8760,  93.4382,  93.0104,\n",
            "         92.5923,  92.1837,  91.7844,  91.3941,  91.0126,  90.6399,  90.2755,\n",
            "         89.9194,  89.5713,  89.2311,  88.8986,  88.5735,  88.2559,  87.9453,\n",
            "         87.6418,  87.3451,  87.0551,  86.7716,  86.4944,  86.2235,  85.9587,\n",
            "         85.6999,  85.4469,  85.1995,  84.9577,  84.7213,  84.4902,  84.2643,\n",
            "         84.0435,  83.8276,  83.6166,  83.4103,  83.2086,  83.0114,  82.8187,\n",
            "         82.6302,  82.4460,  82.2659,  82.0898,  81.9177,  81.7494,  81.5849,\n",
            "         81.4241,  81.2669,  81.1131,  80.9629,  80.8159,  80.6723,  80.5319,\n",
            "         80.3946,  80.2604,  80.1291,  80.0008,  79.8754,  79.7528,  79.6329,\n",
            "         79.5157,  79.4011,  79.2891,  79.1796,  79.0725,  78.9678,  78.8654,\n",
            "         78.7654,  78.6675,  78.5719,  78.4784,  78.3870,  78.2976,  78.2102,\n",
            "         78.1248,  78.0412,  77.9596,  77.8797,  77.8017,  77.7253,  77.6507,\n",
            "         77.5778,  77.5065,  77.4367,  77.3685,  77.3019,  77.2367,  77.1730,\n",
            "         77.1107,  77.0498,  76.9903,  76.9321,  76.8752,  76.8195,  76.7651,\n",
            "         76.7119,  76.6599,  76.6091,  76.5594,  76.5108,  76.4633,  76.4168,\n",
            "         76.3714,  76.3270,  76.2836,  76.2411,  76.1996,  76.1591,  76.1194,\n",
            "         76.0806,  76.0427,  76.0056,  75.9694,  75.9339,  75.8993,  75.8654,\n",
            "         75.8323,  75.7999,  75.7683,  75.7373,  75.7071,  75.6775,  75.6485,\n",
            "         75.6203,  75.5926,  75.5656,  75.5392,  75.5133,  75.4881,  75.4634,\n",
            "         75.4392,  75.4156,  75.3925])\n",
            "Current historical dataframe\n",
            "      Unnamed: 0         5 Minutes  ...  original_index       preds\n",
            "6621        6621  22/02/2016 23:45  ...            6621    0.000000\n",
            "6622        6622  22/02/2016 23:50  ...            6622    0.000000\n",
            "6623        6623  22/02/2016 23:55  ...            6623    0.000000\n",
            "6624        6624   24/02/2016 0:00  ...            6624  102.830536\n",
            "6625        6625   24/02/2016 0:05  ...            6625  102.502251\n",
            "...          ...               ...  ...             ...         ...\n",
            "6769        6769  24/02/2016 12:05  ...            6769   75.488060\n",
            "6770        6770  24/02/2016 12:10  ...            6770   75.463364\n",
            "6771        6771  24/02/2016 12:15  ...            6771   75.439209\n",
            "6772        6772  24/02/2016 12:20  ...            6772   75.415604\n",
            "6773        6773  24/02/2016 12:25  ...            6773   75.392517\n",
            "\n",
            "[153 rows x 9 columns]\n",
            "Warning: unrecognized nn.Module: MultiheadAttention\n",
            "Warning: unrecognized nn.Module: SimplePositionalEncoding\n",
            "Warning: unrecognized nn.Module: MultiheadAttention\n",
            "Warning: unrecognized nn.Module: SimplePositionalEncoding\n",
            "Warning: unrecognized nn.Module: MultiheadAttention\n",
            "Warning: unrecognized nn.Module: SimplePositionalEncoding\n",
            "Warning: unrecognized nn.Module: MultiheadAttention\n",
            "Warning: unrecognized nn.Module: SimplePositionalEncoding\n",
            "Warning: unrecognized nn.Module: MultiheadAttention\n",
            "Warning: unrecognized nn.Module: SimplePositionalEncoding\n"
          ],
          "name": "stdout"
        },
        {
          "output_type": "stream",
          "text": [
            "\n",
            "A value is trying to be set on a copy of a slice from a DataFrame.\n",
            "Try using .loc[row_indexer,col_indexer] = value instead\n",
            "\n",
            "See the caveats in the documentation: https://pandas.pydata.org/pandas-docs/stable/user_guide/indexing.html#returning-a-view-versus-a-copy\n",
            "\n",
            "A value is trying to be set on a copy of a slice from a DataFrame\n",
            "\n",
            "See the caveats in the documentation: https://pandas.pydata.org/pandas-docs/stable/user_guide/indexing.html#returning-a-view-versus-a-copy\n",
            "\n",
            "A value is trying to be set on a copy of a slice from a DataFrame\n",
            "\n",
            "See the caveats in the documentation: https://pandas.pydata.org/pandas-docs/stable/user_guide/indexing.html#returning-a-view-versus-a-copy\n",
            "\n",
            "A value is trying to be set on a copy of a slice from a DataFrame\n",
            "\n",
            "See the caveats in the documentation: https://pandas.pydata.org/pandas-docs/stable/user_guide/indexing.html#returning-a-view-versus-a-copy\n",
            "\n",
            "A value is trying to be set on a copy of a slice from a DataFrame\n",
            "\n",
            "See the caveats in the documentation: https://pandas.pydata.org/pandas-docs/stable/user_guide/indexing.html#returning-a-view-versus-a-copy\n",
            "Named tensors and all their associated APIs are an experimental feature and subject to change. Please do not use them for anything important until they are released as stable. (Triggered internally at  /pytorch/c10/core/TensorImpl.h:840.)\n"
          ],
          "name": "stderr"
        },
        {
          "output_type": "stream",
          "text": [
            "Warning: unrecognized nn.Module: MultiheadAttention\n",
            "Warning: unrecognized nn.Module: SimplePositionalEncoding\n",
            "Warning: unrecognized nn.Module: MultiheadAttention\n",
            "Warning: unrecognized nn.Module: SimplePositionalEncoding\n",
            "Warning: unrecognized nn.Module: MultiheadAttention\n",
            "Warning: unrecognized nn.Module: SimplePositionalEncoding\n",
            "Warning: unrecognized nn.Module: MultiheadAttention\n",
            "Warning: unrecognized nn.Module: SimplePositionalEncoding\n",
            "Warning: unrecognized nn.Module: MultiheadAttention\n",
            "Warning: unrecognized nn.Module: SimplePositionalEncoding\n",
            "Warning: unrecognized nn.Module: MultiheadAttention\n",
            "Warning: unrecognized nn.Module: SimplePositionalEncoding\n",
            "Warning: unrecognized nn.Module: MultiheadAttention\n",
            "Warning: unrecognized nn.Module: SimplePositionalEncoding\n",
            "plotting with CI now\n"
          ],
          "name": "stdout"
        },
        {
          "output_type": "display_data",
          "data": {
            "text/html": [
              "<br/>Waiting for W&B process to finish, PID 1890<br/>Program ended successfully."
            ],
            "text/plain": [
              "<IPython.core.display.HTML object>"
            ]
          },
          "metadata": {
            "tags": []
          }
        },
        {
          "output_type": "display_data",
          "data": {
            "application/vnd.jupyter.widget-view+json": {
              "model_id": "5e3d9174d5244b78b6461e87210337d7",
              "version_minor": 0,
              "version_major": 2
            },
            "text/plain": [
              "VBox(children=(Label(value=' 0.02MB of 0.09MB uploaded (0.00MB deduped)\\r'), FloatProgress(value=0.19096893507…"
            ]
          },
          "metadata": {
            "tags": []
          }
        }
      ]
    },
    {
      "cell_type": "code",
      "metadata": {
        "id": "RKDhpGr_dfwW"
      },
      "source": [
        ""
      ],
      "execution_count": null,
      "outputs": []
    }
  ]
}