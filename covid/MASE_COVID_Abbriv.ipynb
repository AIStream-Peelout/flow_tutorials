{
  "nbformat": 4,
  "nbformat_minor": 0,
  "metadata": {
    "colab": {
      "name": "MASE-COVID-Abbriv.ipynb",
      "provenance": [],
      "collapsed_sections": []
    },
    "kernelspec": {
      "display_name": "Python 3",
      "name": "python3"
    },
    "widgets": {
      "application/vnd.jupyter.widget-state+json": {
        "6b2aab8a856d4b8c988c618dc8dae582": {
          "model_module": "@jupyter-widgets/controls",
          "model_name": "VBoxModel",
          "model_module_version": "1.5.0",
          "state": {
            "_view_name": "VBoxView",
            "_dom_classes": [],
            "_model_name": "VBoxModel",
            "_view_module": "@jupyter-widgets/controls",
            "_model_module_version": "1.5.0",
            "_view_count": null,
            "_view_module_version": "1.5.0",
            "box_style": "",
            "layout": "IPY_MODEL_12152329747144ef8742ca0c698601a5",
            "_model_module": "@jupyter-widgets/controls",
            "children": [
              "IPY_MODEL_82fc15f8a24b4d68924d7845f6bcc212",
              "IPY_MODEL_e8e201da8bb54a65a09fd350dcfd227c"
            ]
          }
        },
        "12152329747144ef8742ca0c698601a5": {
          "model_module": "@jupyter-widgets/base",
          "model_name": "LayoutModel",
          "model_module_version": "1.2.0",
          "state": {
            "_view_name": "LayoutView",
            "grid_template_rows": null,
            "right": null,
            "justify_content": null,
            "_view_module": "@jupyter-widgets/base",
            "overflow": null,
            "_model_module_version": "1.2.0",
            "_view_count": null,
            "flex_flow": null,
            "width": null,
            "min_width": null,
            "border": null,
            "align_items": null,
            "bottom": null,
            "_model_module": "@jupyter-widgets/base",
            "top": null,
            "grid_column": null,
            "overflow_y": null,
            "overflow_x": null,
            "grid_auto_flow": null,
            "grid_area": null,
            "grid_template_columns": null,
            "flex": null,
            "_model_name": "LayoutModel",
            "justify_items": null,
            "grid_row": null,
            "max_height": null,
            "align_content": null,
            "visibility": null,
            "align_self": null,
            "height": null,
            "min_height": null,
            "padding": null,
            "grid_auto_rows": null,
            "grid_gap": null,
            "max_width": null,
            "order": null,
            "_view_module_version": "1.2.0",
            "grid_template_areas": null,
            "object_position": null,
            "object_fit": null,
            "grid_auto_columns": null,
            "margin": null,
            "display": null,
            "left": null
          }
        },
        "82fc15f8a24b4d68924d7845f6bcc212": {
          "model_module": "@jupyter-widgets/controls",
          "model_name": "LabelModel",
          "model_module_version": "1.5.0",
          "state": {
            "_view_name": "LabelView",
            "style": "IPY_MODEL_8ab94cee596740f9b277b9472fd387f5",
            "_dom_classes": [],
            "description": "",
            "_model_name": "LabelModel",
            "placeholder": "​",
            "_view_module": "@jupyter-widgets/controls",
            "_model_module_version": "1.5.0",
            "value": " 0.02MB of 0.02MB uploaded (0.00MB deduped)\r",
            "_view_count": null,
            "_view_module_version": "1.5.0",
            "description_tooltip": null,
            "_model_module": "@jupyter-widgets/controls",
            "layout": "IPY_MODEL_67a72da46ec343b1b3094f0513db5834"
          }
        },
        "e8e201da8bb54a65a09fd350dcfd227c": {
          "model_module": "@jupyter-widgets/controls",
          "model_name": "FloatProgressModel",
          "model_module_version": "1.5.0",
          "state": {
            "_view_name": "ProgressView",
            "style": "IPY_MODEL_d4f7f61dcfb141cb80e547410a1b08e7",
            "_dom_classes": [],
            "description": "",
            "_model_name": "FloatProgressModel",
            "bar_style": "",
            "max": 1,
            "_view_module": "@jupyter-widgets/controls",
            "_model_module_version": "1.5.0",
            "value": 1,
            "_view_count": null,
            "_view_module_version": "1.5.0",
            "orientation": "horizontal",
            "min": 0,
            "description_tooltip": null,
            "_model_module": "@jupyter-widgets/controls",
            "layout": "IPY_MODEL_b99fb35e4b504a1bab76d2f7b855609e"
          }
        },
        "8ab94cee596740f9b277b9472fd387f5": {
          "model_module": "@jupyter-widgets/controls",
          "model_name": "DescriptionStyleModel",
          "model_module_version": "1.5.0",
          "state": {
            "_view_name": "StyleView",
            "_model_name": "DescriptionStyleModel",
            "description_width": "",
            "_view_module": "@jupyter-widgets/base",
            "_model_module_version": "1.5.0",
            "_view_count": null,
            "_view_module_version": "1.2.0",
            "_model_module": "@jupyter-widgets/controls"
          }
        },
        "67a72da46ec343b1b3094f0513db5834": {
          "model_module": "@jupyter-widgets/base",
          "model_name": "LayoutModel",
          "model_module_version": "1.2.0",
          "state": {
            "_view_name": "LayoutView",
            "grid_template_rows": null,
            "right": null,
            "justify_content": null,
            "_view_module": "@jupyter-widgets/base",
            "overflow": null,
            "_model_module_version": "1.2.0",
            "_view_count": null,
            "flex_flow": null,
            "width": null,
            "min_width": null,
            "border": null,
            "align_items": null,
            "bottom": null,
            "_model_module": "@jupyter-widgets/base",
            "top": null,
            "grid_column": null,
            "overflow_y": null,
            "overflow_x": null,
            "grid_auto_flow": null,
            "grid_area": null,
            "grid_template_columns": null,
            "flex": null,
            "_model_name": "LayoutModel",
            "justify_items": null,
            "grid_row": null,
            "max_height": null,
            "align_content": null,
            "visibility": null,
            "align_self": null,
            "height": null,
            "min_height": null,
            "padding": null,
            "grid_auto_rows": null,
            "grid_gap": null,
            "max_width": null,
            "order": null,
            "_view_module_version": "1.2.0",
            "grid_template_areas": null,
            "object_position": null,
            "object_fit": null,
            "grid_auto_columns": null,
            "margin": null,
            "display": null,
            "left": null
          }
        },
        "d4f7f61dcfb141cb80e547410a1b08e7": {
          "model_module": "@jupyter-widgets/controls",
          "model_name": "ProgressStyleModel",
          "model_module_version": "1.5.0",
          "state": {
            "_view_name": "StyleView",
            "_model_name": "ProgressStyleModel",
            "description_width": "",
            "_view_module": "@jupyter-widgets/base",
            "_model_module_version": "1.5.0",
            "_view_count": null,
            "_view_module_version": "1.2.0",
            "bar_color": null,
            "_model_module": "@jupyter-widgets/controls"
          }
        },
        "b99fb35e4b504a1bab76d2f7b855609e": {
          "model_module": "@jupyter-widgets/base",
          "model_name": "LayoutModel",
          "model_module_version": "1.2.0",
          "state": {
            "_view_name": "LayoutView",
            "grid_template_rows": null,
            "right": null,
            "justify_content": null,
            "_view_module": "@jupyter-widgets/base",
            "overflow": null,
            "_model_module_version": "1.2.0",
            "_view_count": null,
            "flex_flow": null,
            "width": null,
            "min_width": null,
            "border": null,
            "align_items": null,
            "bottom": null,
            "_model_module": "@jupyter-widgets/base",
            "top": null,
            "grid_column": null,
            "overflow_y": null,
            "overflow_x": null,
            "grid_auto_flow": null,
            "grid_area": null,
            "grid_template_columns": null,
            "flex": null,
            "_model_name": "LayoutModel",
            "justify_items": null,
            "grid_row": null,
            "max_height": null,
            "align_content": null,
            "visibility": null,
            "align_self": null,
            "height": null,
            "min_height": null,
            "padding": null,
            "grid_auto_rows": null,
            "grid_gap": null,
            "max_width": null,
            "order": null,
            "_view_module_version": "1.2.0",
            "grid_template_areas": null,
            "object_position": null,
            "object_fit": null,
            "grid_auto_columns": null,
            "margin": null,
            "display": null,
            "left": null
          }
        },
        "b63bad68c319438892138ff5d43e5795": {
          "model_module": "@jupyter-widgets/controls",
          "model_name": "VBoxModel",
          "model_module_version": "1.5.0",
          "state": {
            "_view_name": "VBoxView",
            "_dom_classes": [],
            "_model_name": "VBoxModel",
            "_view_module": "@jupyter-widgets/controls",
            "_model_module_version": "1.5.0",
            "_view_count": null,
            "_view_module_version": "1.5.0",
            "box_style": "",
            "layout": "IPY_MODEL_799beae85c894abfb2cbd7b0286cbbb4",
            "_model_module": "@jupyter-widgets/controls",
            "children": [
              "IPY_MODEL_d2cf43a748b6468e8de13fa6f51b8c2c",
              "IPY_MODEL_0c5988466ed44e70bd1fcccafead53ac"
            ]
          }
        },
        "799beae85c894abfb2cbd7b0286cbbb4": {
          "model_module": "@jupyter-widgets/base",
          "model_name": "LayoutModel",
          "model_module_version": "1.2.0",
          "state": {
            "_view_name": "LayoutView",
            "grid_template_rows": null,
            "right": null,
            "justify_content": null,
            "_view_module": "@jupyter-widgets/base",
            "overflow": null,
            "_model_module_version": "1.2.0",
            "_view_count": null,
            "flex_flow": null,
            "width": null,
            "min_width": null,
            "border": null,
            "align_items": null,
            "bottom": null,
            "_model_module": "@jupyter-widgets/base",
            "top": null,
            "grid_column": null,
            "overflow_y": null,
            "overflow_x": null,
            "grid_auto_flow": null,
            "grid_area": null,
            "grid_template_columns": null,
            "flex": null,
            "_model_name": "LayoutModel",
            "justify_items": null,
            "grid_row": null,
            "max_height": null,
            "align_content": null,
            "visibility": null,
            "align_self": null,
            "height": null,
            "min_height": null,
            "padding": null,
            "grid_auto_rows": null,
            "grid_gap": null,
            "max_width": null,
            "order": null,
            "_view_module_version": "1.2.0",
            "grid_template_areas": null,
            "object_position": null,
            "object_fit": null,
            "grid_auto_columns": null,
            "margin": null,
            "display": null,
            "left": null
          }
        },
        "d2cf43a748b6468e8de13fa6f51b8c2c": {
          "model_module": "@jupyter-widgets/controls",
          "model_name": "LabelModel",
          "model_module_version": "1.5.0",
          "state": {
            "_view_name": "LabelView",
            "style": "IPY_MODEL_db84f48af05a4866856685f46bc7a7f0",
            "_dom_classes": [],
            "description": "",
            "_model_name": "LabelModel",
            "placeholder": "​",
            "_view_module": "@jupyter-widgets/controls",
            "_model_module_version": "1.5.0",
            "value": " 0.02MB of 0.02MB uploaded (0.00MB deduped)\r",
            "_view_count": null,
            "_view_module_version": "1.5.0",
            "description_tooltip": null,
            "_model_module": "@jupyter-widgets/controls",
            "layout": "IPY_MODEL_53ac8ef50e0b4e16ac81e5776868a131"
          }
        },
        "0c5988466ed44e70bd1fcccafead53ac": {
          "model_module": "@jupyter-widgets/controls",
          "model_name": "FloatProgressModel",
          "model_module_version": "1.5.0",
          "state": {
            "_view_name": "ProgressView",
            "style": "IPY_MODEL_39982451d818481483b7547c8f040140",
            "_dom_classes": [],
            "description": "",
            "_model_name": "FloatProgressModel",
            "bar_style": "",
            "max": 1,
            "_view_module": "@jupyter-widgets/controls",
            "_model_module_version": "1.5.0",
            "value": 1,
            "_view_count": null,
            "_view_module_version": "1.5.0",
            "orientation": "horizontal",
            "min": 0,
            "description_tooltip": null,
            "_model_module": "@jupyter-widgets/controls",
            "layout": "IPY_MODEL_50e506cc86154605b0bddef5a3809545"
          }
        },
        "db84f48af05a4866856685f46bc7a7f0": {
          "model_module": "@jupyter-widgets/controls",
          "model_name": "DescriptionStyleModel",
          "model_module_version": "1.5.0",
          "state": {
            "_view_name": "StyleView",
            "_model_name": "DescriptionStyleModel",
            "description_width": "",
            "_view_module": "@jupyter-widgets/base",
            "_model_module_version": "1.5.0",
            "_view_count": null,
            "_view_module_version": "1.2.0",
            "_model_module": "@jupyter-widgets/controls"
          }
        },
        "53ac8ef50e0b4e16ac81e5776868a131": {
          "model_module": "@jupyter-widgets/base",
          "model_name": "LayoutModel",
          "model_module_version": "1.2.0",
          "state": {
            "_view_name": "LayoutView",
            "grid_template_rows": null,
            "right": null,
            "justify_content": null,
            "_view_module": "@jupyter-widgets/base",
            "overflow": null,
            "_model_module_version": "1.2.0",
            "_view_count": null,
            "flex_flow": null,
            "width": null,
            "min_width": null,
            "border": null,
            "align_items": null,
            "bottom": null,
            "_model_module": "@jupyter-widgets/base",
            "top": null,
            "grid_column": null,
            "overflow_y": null,
            "overflow_x": null,
            "grid_auto_flow": null,
            "grid_area": null,
            "grid_template_columns": null,
            "flex": null,
            "_model_name": "LayoutModel",
            "justify_items": null,
            "grid_row": null,
            "max_height": null,
            "align_content": null,
            "visibility": null,
            "align_self": null,
            "height": null,
            "min_height": null,
            "padding": null,
            "grid_auto_rows": null,
            "grid_gap": null,
            "max_width": null,
            "order": null,
            "_view_module_version": "1.2.0",
            "grid_template_areas": null,
            "object_position": null,
            "object_fit": null,
            "grid_auto_columns": null,
            "margin": null,
            "display": null,
            "left": null
          }
        },
        "39982451d818481483b7547c8f040140": {
          "model_module": "@jupyter-widgets/controls",
          "model_name": "ProgressStyleModel",
          "model_module_version": "1.5.0",
          "state": {
            "_view_name": "StyleView",
            "_model_name": "ProgressStyleModel",
            "description_width": "",
            "_view_module": "@jupyter-widgets/base",
            "_model_module_version": "1.5.0",
            "_view_count": null,
            "_view_module_version": "1.2.0",
            "bar_color": null,
            "_model_module": "@jupyter-widgets/controls"
          }
        },
        "50e506cc86154605b0bddef5a3809545": {
          "model_module": "@jupyter-widgets/base",
          "model_name": "LayoutModel",
          "model_module_version": "1.2.0",
          "state": {
            "_view_name": "LayoutView",
            "grid_template_rows": null,
            "right": null,
            "justify_content": null,
            "_view_module": "@jupyter-widgets/base",
            "overflow": null,
            "_model_module_version": "1.2.0",
            "_view_count": null,
            "flex_flow": null,
            "width": null,
            "min_width": null,
            "border": null,
            "align_items": null,
            "bottom": null,
            "_model_module": "@jupyter-widgets/base",
            "top": null,
            "grid_column": null,
            "overflow_y": null,
            "overflow_x": null,
            "grid_auto_flow": null,
            "grid_area": null,
            "grid_template_columns": null,
            "flex": null,
            "_model_name": "LayoutModel",
            "justify_items": null,
            "grid_row": null,
            "max_height": null,
            "align_content": null,
            "visibility": null,
            "align_self": null,
            "height": null,
            "min_height": null,
            "padding": null,
            "grid_auto_rows": null,
            "grid_gap": null,
            "max_width": null,
            "order": null,
            "_view_module_version": "1.2.0",
            "grid_template_areas": null,
            "object_position": null,
            "object_fit": null,
            "grid_auto_columns": null,
            "margin": null,
            "display": null,
            "left": null
          }
        },
        "8ab2aa58adab4b94b732724d87f4e8dc": {
          "model_module": "@jupyter-widgets/controls",
          "model_name": "VBoxModel",
          "model_module_version": "1.5.0",
          "state": {
            "_view_name": "VBoxView",
            "_dom_classes": [],
            "_model_name": "VBoxModel",
            "_view_module": "@jupyter-widgets/controls",
            "_model_module_version": "1.5.0",
            "_view_count": null,
            "_view_module_version": "1.5.0",
            "box_style": "",
            "layout": "IPY_MODEL_312cc1cc95b7421fb8f9c1380c1cebcc",
            "_model_module": "@jupyter-widgets/controls",
            "children": [
              "IPY_MODEL_880ef1b0bf2b422ab949293d8eb5efd3",
              "IPY_MODEL_f601f45c0682473084774383c0a68536"
            ]
          }
        },
        "312cc1cc95b7421fb8f9c1380c1cebcc": {
          "model_module": "@jupyter-widgets/base",
          "model_name": "LayoutModel",
          "model_module_version": "1.2.0",
          "state": {
            "_view_name": "LayoutView",
            "grid_template_rows": null,
            "right": null,
            "justify_content": null,
            "_view_module": "@jupyter-widgets/base",
            "overflow": null,
            "_model_module_version": "1.2.0",
            "_view_count": null,
            "flex_flow": null,
            "width": null,
            "min_width": null,
            "border": null,
            "align_items": null,
            "bottom": null,
            "_model_module": "@jupyter-widgets/base",
            "top": null,
            "grid_column": null,
            "overflow_y": null,
            "overflow_x": null,
            "grid_auto_flow": null,
            "grid_area": null,
            "grid_template_columns": null,
            "flex": null,
            "_model_name": "LayoutModel",
            "justify_items": null,
            "grid_row": null,
            "max_height": null,
            "align_content": null,
            "visibility": null,
            "align_self": null,
            "height": null,
            "min_height": null,
            "padding": null,
            "grid_auto_rows": null,
            "grid_gap": null,
            "max_width": null,
            "order": null,
            "_view_module_version": "1.2.0",
            "grid_template_areas": null,
            "object_position": null,
            "object_fit": null,
            "grid_auto_columns": null,
            "margin": null,
            "display": null,
            "left": null
          }
        },
        "880ef1b0bf2b422ab949293d8eb5efd3": {
          "model_module": "@jupyter-widgets/controls",
          "model_name": "LabelModel",
          "model_module_version": "1.5.0",
          "state": {
            "_view_name": "LabelView",
            "style": "IPY_MODEL_1cc79c08b5aa4c40942536e823f76c86",
            "_dom_classes": [],
            "description": "",
            "_model_name": "LabelModel",
            "placeholder": "​",
            "_view_module": "@jupyter-widgets/controls",
            "_model_module_version": "1.5.0",
            "value": " 0.03MB of 0.03MB uploaded (0.00MB deduped)\r",
            "_view_count": null,
            "_view_module_version": "1.5.0",
            "description_tooltip": null,
            "_model_module": "@jupyter-widgets/controls",
            "layout": "IPY_MODEL_0bcfb5a8ed1440d8a10082534089acdb"
          }
        },
        "f601f45c0682473084774383c0a68536": {
          "model_module": "@jupyter-widgets/controls",
          "model_name": "FloatProgressModel",
          "model_module_version": "1.5.0",
          "state": {
            "_view_name": "ProgressView",
            "style": "IPY_MODEL_d12faaa0ca8b4be6966715fccf86a1c2",
            "_dom_classes": [],
            "description": "",
            "_model_name": "FloatProgressModel",
            "bar_style": "",
            "max": 1,
            "_view_module": "@jupyter-widgets/controls",
            "_model_module_version": "1.5.0",
            "value": 1,
            "_view_count": null,
            "_view_module_version": "1.5.0",
            "orientation": "horizontal",
            "min": 0,
            "description_tooltip": null,
            "_model_module": "@jupyter-widgets/controls",
            "layout": "IPY_MODEL_c4caaf69942940b8beb79dbaa21bd97d"
          }
        },
        "1cc79c08b5aa4c40942536e823f76c86": {
          "model_module": "@jupyter-widgets/controls",
          "model_name": "DescriptionStyleModel",
          "model_module_version": "1.5.0",
          "state": {
            "_view_name": "StyleView",
            "_model_name": "DescriptionStyleModel",
            "description_width": "",
            "_view_module": "@jupyter-widgets/base",
            "_model_module_version": "1.5.0",
            "_view_count": null,
            "_view_module_version": "1.2.0",
            "_model_module": "@jupyter-widgets/controls"
          }
        },
        "0bcfb5a8ed1440d8a10082534089acdb": {
          "model_module": "@jupyter-widgets/base",
          "model_name": "LayoutModel",
          "model_module_version": "1.2.0",
          "state": {
            "_view_name": "LayoutView",
            "grid_template_rows": null,
            "right": null,
            "justify_content": null,
            "_view_module": "@jupyter-widgets/base",
            "overflow": null,
            "_model_module_version": "1.2.0",
            "_view_count": null,
            "flex_flow": null,
            "width": null,
            "min_width": null,
            "border": null,
            "align_items": null,
            "bottom": null,
            "_model_module": "@jupyter-widgets/base",
            "top": null,
            "grid_column": null,
            "overflow_y": null,
            "overflow_x": null,
            "grid_auto_flow": null,
            "grid_area": null,
            "grid_template_columns": null,
            "flex": null,
            "_model_name": "LayoutModel",
            "justify_items": null,
            "grid_row": null,
            "max_height": null,
            "align_content": null,
            "visibility": null,
            "align_self": null,
            "height": null,
            "min_height": null,
            "padding": null,
            "grid_auto_rows": null,
            "grid_gap": null,
            "max_width": null,
            "order": null,
            "_view_module_version": "1.2.0",
            "grid_template_areas": null,
            "object_position": null,
            "object_fit": null,
            "grid_auto_columns": null,
            "margin": null,
            "display": null,
            "left": null
          }
        },
        "d12faaa0ca8b4be6966715fccf86a1c2": {
          "model_module": "@jupyter-widgets/controls",
          "model_name": "ProgressStyleModel",
          "model_module_version": "1.5.0",
          "state": {
            "_view_name": "StyleView",
            "_model_name": "ProgressStyleModel",
            "description_width": "",
            "_view_module": "@jupyter-widgets/base",
            "_model_module_version": "1.5.0",
            "_view_count": null,
            "_view_module_version": "1.2.0",
            "bar_color": null,
            "_model_module": "@jupyter-widgets/controls"
          }
        },
        "c4caaf69942940b8beb79dbaa21bd97d": {
          "model_module": "@jupyter-widgets/base",
          "model_name": "LayoutModel",
          "model_module_version": "1.2.0",
          "state": {
            "_view_name": "LayoutView",
            "grid_template_rows": null,
            "right": null,
            "justify_content": null,
            "_view_module": "@jupyter-widgets/base",
            "overflow": null,
            "_model_module_version": "1.2.0",
            "_view_count": null,
            "flex_flow": null,
            "width": null,
            "min_width": null,
            "border": null,
            "align_items": null,
            "bottom": null,
            "_model_module": "@jupyter-widgets/base",
            "top": null,
            "grid_column": null,
            "overflow_y": null,
            "overflow_x": null,
            "grid_auto_flow": null,
            "grid_area": null,
            "grid_template_columns": null,
            "flex": null,
            "_model_name": "LayoutModel",
            "justify_items": null,
            "grid_row": null,
            "max_height": null,
            "align_content": null,
            "visibility": null,
            "align_self": null,
            "height": null,
            "min_height": null,
            "padding": null,
            "grid_auto_rows": null,
            "grid_gap": null,
            "max_width": null,
            "order": null,
            "_view_module_version": "1.2.0",
            "grid_template_areas": null,
            "object_position": null,
            "object_fit": null,
            "grid_auto_columns": null,
            "margin": null,
            "display": null,
            "left": null
          }
        }
      }
    }
  },
  "cells": [
    {
      "cell_type": "markdown",
      "metadata": {
        "id": "M_VapzVbeGZh"
      },
      "source": [
        "## Transformer Bottleneck Forecasting COVID-19\n",
        "In this notebook we will examine using the [transformer bottleneck paper](https://arxiv.org/abs/1907.00235) to COVID-19 cases. We will also try to use some custom evaluation metrics such as dilate loss and MASE loss."
      ]
    },
    {
      "cell_type": "code",
      "metadata": {
        "id": "LZPtjFLSoNFh"
      },
      "source": [
        "from google.colab import auth\n",
        "from datetime import datetime\n",
        "import os\n",
        "auth.authenticate_user()\n",
        "!git clone https://github.com/AIStream-Peelout/flow-forecast.git"
      ],
      "execution_count": null,
      "outputs": []
    },
    {
      "cell_type": "markdown",
      "metadata": {
        "id": "3V274lxPypHT"
      },
      "source": [
        "### Setup/Preliminary Preprocessing"
      ]
    },
    {
      "cell_type": "code",
      "metadata": {
        "id": "6TqZtzqfrV2u"
      },
      "source": [
        "import os\n",
        "os.chdir('flow-forecast')\n",
        "!pip install -r  requirements.txt\n",
        "!python setup.py develop\n",
        "!mkdir data"
      ],
      "execution_count": null,
      "outputs": []
    },
    {
      "cell_type": "code",
      "metadata": {
        "id": "Xj9zudlts1BX"
      },
      "source": [
        "!gsutil cp gs://flow_datasets/miami_dade.csv . \n",
        "!gsutil cp gs://flow_datasets/palm_beach.csv .\n",
        "!gsutil cp gs://flow_datasets/miami_weather.csv . "
      ],
      "execution_count": null,
      "outputs": []
    },
    {
      "cell_type": "code",
      "metadata": {
        "id": "2S8AajobzDYK"
      },
      "source": [
        "import pandas as pd\n",
        "df = pd.read_csv(\"/content/flow-forecast/miami_weather.csv\")\n",
        "df2 = pd.read_csv(\"/content/flow-forecast/palm_beach.csv\")\n",
        "df[\"datetime\"] = df[\"date\"]\n",
        "df[\"new_cases\"] = df[\"cases\"].diff()\n",
        "df[\"rolling_7\"] = df[\"new_cases\"].rolling(7, win_type='triang').mean()\n",
        "df2[\"datetime\"] = df2[\"date\"]\n",
        "df2[\"new_cases\"] = df2[\"cases\"].diff()\n",
        "df2[\"prolling_7\"] = df2[\"new_cases\"].rolling(7, win_type='triang').mean()\n",
        "df = df[8:]\n",
        "df = df.merge(df2[[\"prolling_7\", \"date\"]], right_on=\"date\", left_on=\"date\")\n",
        "df.to_csv(\"miami_f.csv\")"
      ],
      "execution_count": null,
      "outputs": []
    },
    {
      "cell_type": "code",
      "metadata": {
        "id": "plc1sgJZ4n7H"
      },
      "source": [
        "df = pd.read_csv(\"/content/miami_dade_d.csv\")\n",
        "df[\"datetime\"] = df[\"date\"]\n",
        "df[\"new_cases\"] = df[\"cases\"].diff()\n",
        "df[\"rolling_7_cases\"] = df[\"new_cases\"].rolling(7, win_type='triang').mean()\n",
        "df[\"rolling_7_deaths\"] = df[\"deaths\"].rolling(7, win_type='triang').mean()"
      ],
      "execution_count": null,
      "outputs": []
    },
    {
      "cell_type": "code",
      "metadata": {
        "id": "Faz6h6Y340qS"
      },
      "source": [
        "df.to_csv(\"miami_f.csv\")"
      ],
      "execution_count": null,
      "outputs": []
    },
    {
      "cell_type": "code",
      "metadata": {
        "colab": {
          "base_uri": "https://localhost:8080/",
          "height": 1000
        },
        "id": "dYicdAFR10uu",
        "outputId": "33850663-0a5c-405c-8e52-0ee064afcfd8"
      },
      "source": [
        "df.sort_values(by=\"date\")[-20:]"
      ],
      "execution_count": null,
      "outputs": [
        {
          "output_type": "execute_result",
          "data": {
            "text/html": [
              "<div>\n",
              "<style scoped>\n",
              "    .dataframe tbody tr th:only-of-type {\n",
              "        vertical-align: middle;\n",
              "    }\n",
              "\n",
              "    .dataframe tbody tr th {\n",
              "        vertical-align: top;\n",
              "    }\n",
              "\n",
              "    .dataframe thead th {\n",
              "        text-align: right;\n",
              "    }\n",
              "</style>\n",
              "<table border=\"1\" class=\"dataframe\">\n",
              "  <thead>\n",
              "    <tr style=\"text-align: right;\">\n",
              "      <th></th>\n",
              "      <th>Unnamed: 0</th>\n",
              "      <th>date</th>\n",
              "      <th>level_0</th>\n",
              "      <th>index</th>\n",
              "      <th>UID</th>\n",
              "      <th>sub_region</th>\n",
              "      <th>region</th>\n",
              "      <th>country</th>\n",
              "      <th>lat</th>\n",
              "      <th>long</th>\n",
              "      <th>Combined_Key</th>\n",
              "      <th>cases</th>\n",
              "      <th>level</th>\n",
              "      <th>deaths</th>\n",
              "      <th>mobility_retail_recreation</th>\n",
              "      <th>mobility_grocery_pharmacy</th>\n",
              "      <th>mobility_parks</th>\n",
              "      <th>mobility_transit_stations</th>\n",
              "      <th>mobility_workplaces</th>\n",
              "      <th>mobility_residential</th>\n",
              "      <th>lon</th>\n",
              "      <th>avg_temperature</th>\n",
              "      <th>min_temperature</th>\n",
              "      <th>max_temperature</th>\n",
              "      <th>relative_humidity</th>\n",
              "      <th>specific_humidity</th>\n",
              "      <th>pressure</th>\n",
              "      <th>datetime</th>\n",
              "      <th>new_cases</th>\n",
              "      <th>rolling_7_cases</th>\n",
              "      <th>rolling_7_deaths</th>\n",
              "    </tr>\n",
              "  </thead>\n",
              "  <tbody>\n",
              "    <tr>\n",
              "      <th>323</th>\n",
              "      <td>323</td>\n",
              "      <td>2021-01-03</td>\n",
              "      <td>767551</td>\n",
              "      <td>1159362</td>\n",
              "      <td>84012086</td>\n",
              "      <td>Miami-Dade County</td>\n",
              "      <td>Florida</td>\n",
              "      <td>United States</td>\n",
              "      <td>25.611236</td>\n",
              "      <td>-80.551706</td>\n",
              "      <td>Miami-Dade, Florida, US</td>\n",
              "      <td>305734</td>\n",
              "      <td>sub_region</td>\n",
              "      <td>4251</td>\n",
              "      <td>-26.0</td>\n",
              "      <td>-21.0</td>\n",
              "      <td>-40.0</td>\n",
              "      <td>-41.0</td>\n",
              "      <td>-19.0</td>\n",
              "      <td>6.0</td>\n",
              "      <td>-80.551706</td>\n",
              "      <td>23.11</td>\n",
              "      <td>21.27</td>\n",
              "      <td>25.67</td>\n",
              "      <td>85.78</td>\n",
              "      <td>14.98</td>\n",
              "      <td>101.73</td>\n",
              "      <td>2021-01-03</td>\n",
              "      <td>1547.0</td>\n",
              "      <td>2492.1250</td>\n",
              "      <td>4189.6875</td>\n",
              "    </tr>\n",
              "    <tr>\n",
              "      <th>324</th>\n",
              "      <td>324</td>\n",
              "      <td>2021-01-04</td>\n",
              "      <td>769590</td>\n",
              "      <td>1162702</td>\n",
              "      <td>84012086</td>\n",
              "      <td>Miami-Dade County</td>\n",
              "      <td>Florida</td>\n",
              "      <td>United States</td>\n",
              "      <td>25.611236</td>\n",
              "      <td>-80.551706</td>\n",
              "      <td>Miami-Dade, Florida, US</td>\n",
              "      <td>308259</td>\n",
              "      <td>sub_region</td>\n",
              "      <td>4256</td>\n",
              "      <td>-22.0</td>\n",
              "      <td>-12.0</td>\n",
              "      <td>-46.0</td>\n",
              "      <td>-39.0</td>\n",
              "      <td>-31.0</td>\n",
              "      <td>11.0</td>\n",
              "      <td>-80.551706</td>\n",
              "      <td>19.68</td>\n",
              "      <td>17.25</td>\n",
              "      <td>21.66</td>\n",
              "      <td>77.53</td>\n",
              "      <td>10.95</td>\n",
              "      <td>101.65</td>\n",
              "      <td>2021-01-04</td>\n",
              "      <td>2525.0</td>\n",
              "      <td>2418.3125</td>\n",
              "      <td>4205.8125</td>\n",
              "    </tr>\n",
              "    <tr>\n",
              "      <th>325</th>\n",
              "      <td>325</td>\n",
              "      <td>2021-01-05</td>\n",
              "      <td>772199</td>\n",
              "      <td>1166042</td>\n",
              "      <td>84012086</td>\n",
              "      <td>Miami-Dade County</td>\n",
              "      <td>Florida</td>\n",
              "      <td>United States</td>\n",
              "      <td>25.611236</td>\n",
              "      <td>-80.551706</td>\n",
              "      <td>Miami-Dade, Florida, US</td>\n",
              "      <td>311606</td>\n",
              "      <td>sub_region</td>\n",
              "      <td>4257</td>\n",
              "      <td>-21.0</td>\n",
              "      <td>-10.0</td>\n",
              "      <td>-44.0</td>\n",
              "      <td>-42.0</td>\n",
              "      <td>-31.0</td>\n",
              "      <td>11.0</td>\n",
              "      <td>-80.551706</td>\n",
              "      <td>16.88</td>\n",
              "      <td>13.88</td>\n",
              "      <td>20.02</td>\n",
              "      <td>66.32</td>\n",
              "      <td>7.84</td>\n",
              "      <td>101.70</td>\n",
              "      <td>2021-01-05</td>\n",
              "      <td>3347.0</td>\n",
              "      <td>2682.2500</td>\n",
              "      <td>4224.1875</td>\n",
              "    </tr>\n",
              "    <tr>\n",
              "      <th>326</th>\n",
              "      <td>326</td>\n",
              "      <td>2021-01-06</td>\n",
              "      <td>774829</td>\n",
              "      <td>1169382</td>\n",
              "      <td>84012086</td>\n",
              "      <td>Miami-Dade County</td>\n",
              "      <td>Florida</td>\n",
              "      <td>United States</td>\n",
              "      <td>25.611236</td>\n",
              "      <td>-80.551706</td>\n",
              "      <td>Miami-Dade, Florida, US</td>\n",
              "      <td>314742</td>\n",
              "      <td>sub_region</td>\n",
              "      <td>4260</td>\n",
              "      <td>-25.0</td>\n",
              "      <td>-15.0</td>\n",
              "      <td>-47.0</td>\n",
              "      <td>-43.0</td>\n",
              "      <td>-30.0</td>\n",
              "      <td>12.0</td>\n",
              "      <td>-80.551706</td>\n",
              "      <td>16.92</td>\n",
              "      <td>13.38</td>\n",
              "      <td>19.92</td>\n",
              "      <td>64.54</td>\n",
              "      <td>7.64</td>\n",
              "      <td>101.82</td>\n",
              "      <td>2021-01-06</td>\n",
              "      <td>3136.0</td>\n",
              "      <td>2654.5000</td>\n",
              "      <td>4239.1875</td>\n",
              "    </tr>\n",
              "    <tr>\n",
              "      <th>327</th>\n",
              "      <td>327</td>\n",
              "      <td>2021-01-07</td>\n",
              "      <td>777460</td>\n",
              "      <td>1172722</td>\n",
              "      <td>84012086</td>\n",
              "      <td>Miami-Dade County</td>\n",
              "      <td>Florida</td>\n",
              "      <td>United States</td>\n",
              "      <td>25.611236</td>\n",
              "      <td>-80.551706</td>\n",
              "      <td>Miami-Dade, Florida, US</td>\n",
              "      <td>318115</td>\n",
              "      <td>sub_region</td>\n",
              "      <td>4297</td>\n",
              "      <td>-25.0</td>\n",
              "      <td>-15.0</td>\n",
              "      <td>-45.0</td>\n",
              "      <td>-42.0</td>\n",
              "      <td>-30.0</td>\n",
              "      <td>12.0</td>\n",
              "      <td>-80.551706</td>\n",
              "      <td>20.28</td>\n",
              "      <td>17.64</td>\n",
              "      <td>22.95</td>\n",
              "      <td>72.23</td>\n",
              "      <td>10.59</td>\n",
              "      <td>101.64</td>\n",
              "      <td>2021-01-07</td>\n",
              "      <td>3373.0</td>\n",
              "      <td>2815.9375</td>\n",
              "      <td>4251.9375</td>\n",
              "    </tr>\n",
              "    <tr>\n",
              "      <th>328</th>\n",
              "      <td>328</td>\n",
              "      <td>2021-01-08</td>\n",
              "      <td>780079</td>\n",
              "      <td>1176062</td>\n",
              "      <td>84012086</td>\n",
              "      <td>Miami-Dade County</td>\n",
              "      <td>Florida</td>\n",
              "      <td>United States</td>\n",
              "      <td>25.611236</td>\n",
              "      <td>-80.551706</td>\n",
              "      <td>Miami-Dade, Florida, US</td>\n",
              "      <td>321555</td>\n",
              "      <td>sub_region</td>\n",
              "      <td>4332</td>\n",
              "      <td>-25.0</td>\n",
              "      <td>-12.0</td>\n",
              "      <td>-48.0</td>\n",
              "      <td>-43.0</td>\n",
              "      <td>-28.0</td>\n",
              "      <td>12.0</td>\n",
              "      <td>-80.551706</td>\n",
              "      <td>20.56</td>\n",
              "      <td>17.59</td>\n",
              "      <td>22.52</td>\n",
              "      <td>82.24</td>\n",
              "      <td>12.31</td>\n",
              "      <td>101.44</td>\n",
              "      <td>2021-01-08</td>\n",
              "      <td>3440.0</td>\n",
              "      <td>3060.3125</td>\n",
              "      <td>4265.1875</td>\n",
              "    </tr>\n",
              "    <tr>\n",
              "      <th>329</th>\n",
              "      <td>329</td>\n",
              "      <td>2021-01-09</td>\n",
              "      <td>782621</td>\n",
              "      <td>1179402</td>\n",
              "      <td>84012086</td>\n",
              "      <td>Miami-Dade County</td>\n",
              "      <td>Florida</td>\n",
              "      <td>United States</td>\n",
              "      <td>25.611236</td>\n",
              "      <td>-80.551706</td>\n",
              "      <td>Miami-Dade, Florida, US</td>\n",
              "      <td>324260</td>\n",
              "      <td>sub_region</td>\n",
              "      <td>4365</td>\n",
              "      <td>-24.0</td>\n",
              "      <td>-13.0</td>\n",
              "      <td>-49.0</td>\n",
              "      <td>-41.0</td>\n",
              "      <td>-17.0</td>\n",
              "      <td>7.0</td>\n",
              "      <td>-80.551706</td>\n",
              "      <td>15.64</td>\n",
              "      <td>12.69</td>\n",
              "      <td>17.68</td>\n",
              "      <td>74.19</td>\n",
              "      <td>8.10</td>\n",
              "      <td>101.87</td>\n",
              "      <td>2021-01-09</td>\n",
              "      <td>2705.0</td>\n",
              "      <td>3055.3750</td>\n",
              "      <td>4280.8750</td>\n",
              "    </tr>\n",
              "    <tr>\n",
              "      <th>330</th>\n",
              "      <td>330</td>\n",
              "      <td>2021-01-10</td>\n",
              "      <td>784704</td>\n",
              "      <td>1182742</td>\n",
              "      <td>84012086</td>\n",
              "      <td>Miami-Dade County</td>\n",
              "      <td>Florida</td>\n",
              "      <td>United States</td>\n",
              "      <td>25.611236</td>\n",
              "      <td>-80.551706</td>\n",
              "      <td>Miami-Dade, Florida, US</td>\n",
              "      <td>326607</td>\n",
              "      <td>sub_region</td>\n",
              "      <td>4413</td>\n",
              "      <td>-24.0</td>\n",
              "      <td>-16.0</td>\n",
              "      <td>-47.0</td>\n",
              "      <td>-43.0</td>\n",
              "      <td>-18.0</td>\n",
              "      <td>7.0</td>\n",
              "      <td>-80.551706</td>\n",
              "      <td>13.65</td>\n",
              "      <td>9.21</td>\n",
              "      <td>17.72</td>\n",
              "      <td>73.79</td>\n",
              "      <td>7.05</td>\n",
              "      <td>102.21</td>\n",
              "      <td>2021-01-10</td>\n",
              "      <td>2347.0</td>\n",
              "      <td>3137.2500</td>\n",
              "      <td>4304.8125</td>\n",
              "    </tr>\n",
              "    <tr>\n",
              "      <th>331</th>\n",
              "      <td>331</td>\n",
              "      <td>2021-01-11</td>\n",
              "      <td>786746</td>\n",
              "      <td>1186082</td>\n",
              "      <td>84012086</td>\n",
              "      <td>Miami-Dade County</td>\n",
              "      <td>Florida</td>\n",
              "      <td>United States</td>\n",
              "      <td>25.611236</td>\n",
              "      <td>-80.551706</td>\n",
              "      <td>Miami-Dade, Florida, US</td>\n",
              "      <td>328701</td>\n",
              "      <td>sub_region</td>\n",
              "      <td>4441</td>\n",
              "      <td>-24.0</td>\n",
              "      <td>-15.0</td>\n",
              "      <td>-46.0</td>\n",
              "      <td>-41.0</td>\n",
              "      <td>-29.0</td>\n",
              "      <td>11.0</td>\n",
              "      <td>-80.551706</td>\n",
              "      <td>20.07</td>\n",
              "      <td>16.32</td>\n",
              "      <td>22.57</td>\n",
              "      <td>78.31</td>\n",
              "      <td>11.29</td>\n",
              "      <td>102.10</td>\n",
              "      <td>2021-01-11</td>\n",
              "      <td>2094.0</td>\n",
              "      <td>3025.0625</td>\n",
              "      <td>4334.8750</td>\n",
              "    </tr>\n",
              "    <tr>\n",
              "      <th>332</th>\n",
              "      <td>332</td>\n",
              "      <td>2021-01-12</td>\n",
              "      <td>789358</td>\n",
              "      <td>1189422</td>\n",
              "      <td>84012086</td>\n",
              "      <td>Miami-Dade County</td>\n",
              "      <td>Florida</td>\n",
              "      <td>United States</td>\n",
              "      <td>25.611236</td>\n",
              "      <td>-80.551706</td>\n",
              "      <td>Miami-Dade, Florida, US</td>\n",
              "      <td>331649</td>\n",
              "      <td>sub_region</td>\n",
              "      <td>4452</td>\n",
              "      <td>-24.0</td>\n",
              "      <td>-13.0</td>\n",
              "      <td>-47.0</td>\n",
              "      <td>-43.0</td>\n",
              "      <td>-31.0</td>\n",
              "      <td>12.0</td>\n",
              "      <td>-80.551706</td>\n",
              "      <td>20.57</td>\n",
              "      <td>18.16</td>\n",
              "      <td>22.69</td>\n",
              "      <td>85.85</td>\n",
              "      <td>12.78</td>\n",
              "      <td>102.07</td>\n",
              "      <td>2021-01-12</td>\n",
              "      <td>2948.0</td>\n",
              "      <td>2824.9375</td>\n",
              "      <td>4367.6875</td>\n",
              "    </tr>\n",
              "    <tr>\n",
              "      <th>333</th>\n",
              "      <td>333</td>\n",
              "      <td>2021-01-13</td>\n",
              "      <td>791988</td>\n",
              "      <td>1192762</td>\n",
              "      <td>84012086</td>\n",
              "      <td>Miami-Dade County</td>\n",
              "      <td>Florida</td>\n",
              "      <td>United States</td>\n",
              "      <td>25.611236</td>\n",
              "      <td>-80.551706</td>\n",
              "      <td>Miami-Dade, Florida, US</td>\n",
              "      <td>334217</td>\n",
              "      <td>sub_region</td>\n",
              "      <td>4472</td>\n",
              "      <td>-27.0</td>\n",
              "      <td>-16.0</td>\n",
              "      <td>-49.0</td>\n",
              "      <td>-45.0</td>\n",
              "      <td>-30.0</td>\n",
              "      <td>11.0</td>\n",
              "      <td>-80.551706</td>\n",
              "      <td>18.52</td>\n",
              "      <td>15.61</td>\n",
              "      <td>22.77</td>\n",
              "      <td>86.11</td>\n",
              "      <td>11.30</td>\n",
              "      <td>101.80</td>\n",
              "      <td>2021-01-13</td>\n",
              "      <td>2568.0</td>\n",
              "      <td>2656.3750</td>\n",
              "      <td>4400.4375</td>\n",
              "    </tr>\n",
              "    <tr>\n",
              "      <th>334</th>\n",
              "      <td>334</td>\n",
              "      <td>2021-01-14</td>\n",
              "      <td>794621</td>\n",
              "      <td>1196102</td>\n",
              "      <td>84012086</td>\n",
              "      <td>Miami-Dade County</td>\n",
              "      <td>Florida</td>\n",
              "      <td>United States</td>\n",
              "      <td>25.611236</td>\n",
              "      <td>-80.551706</td>\n",
              "      <td>Miami-Dade, Florida, US</td>\n",
              "      <td>336749</td>\n",
              "      <td>sub_region</td>\n",
              "      <td>4500</td>\n",
              "      <td>-27.0</td>\n",
              "      <td>-16.0</td>\n",
              "      <td>-49.0</td>\n",
              "      <td>-44.0</td>\n",
              "      <td>-32.0</td>\n",
              "      <td>11.0</td>\n",
              "      <td>-80.551706</td>\n",
              "      <td>17.25</td>\n",
              "      <td>15.71</td>\n",
              "      <td>19.30</td>\n",
              "      <td>83.86</td>\n",
              "      <td>10.18</td>\n",
              "      <td>101.56</td>\n",
              "      <td>2021-01-14</td>\n",
              "      <td>2532.0</td>\n",
              "      <td>2548.6875</td>\n",
              "      <td>4429.0625</td>\n",
              "    </tr>\n",
              "    <tr>\n",
              "      <th>335</th>\n",
              "      <td>335</td>\n",
              "      <td>2021-01-15</td>\n",
              "      <td>797247</td>\n",
              "      <td>1199442</td>\n",
              "      <td>84012086</td>\n",
              "      <td>Miami-Dade County</td>\n",
              "      <td>Florida</td>\n",
              "      <td>United States</td>\n",
              "      <td>25.611236</td>\n",
              "      <td>-80.551706</td>\n",
              "      <td>Miami-Dade, Florida, US</td>\n",
              "      <td>339434</td>\n",
              "      <td>sub_region</td>\n",
              "      <td>4528</td>\n",
              "      <td>-26.0</td>\n",
              "      <td>-13.0</td>\n",
              "      <td>-45.0</td>\n",
              "      <td>-45.0</td>\n",
              "      <td>-30.0</td>\n",
              "      <td>11.0</td>\n",
              "      <td>-80.551706</td>\n",
              "      <td>18.70</td>\n",
              "      <td>16.32</td>\n",
              "      <td>20.63</td>\n",
              "      <td>81.29</td>\n",
              "      <td>10.84</td>\n",
              "      <td>101.31</td>\n",
              "      <td>2021-01-15</td>\n",
              "      <td>2685.0</td>\n",
              "      <td>2557.8750</td>\n",
              "      <td>4454.1250</td>\n",
              "    </tr>\n",
              "    <tr>\n",
              "      <th>336</th>\n",
              "      <td>336</td>\n",
              "      <td>2021-01-16</td>\n",
              "      <td>799798</td>\n",
              "      <td>1202782</td>\n",
              "      <td>84012086</td>\n",
              "      <td>Miami-Dade County</td>\n",
              "      <td>Florida</td>\n",
              "      <td>United States</td>\n",
              "      <td>25.611236</td>\n",
              "      <td>-80.551706</td>\n",
              "      <td>Miami-Dade, Florida, US</td>\n",
              "      <td>341842</td>\n",
              "      <td>sub_region</td>\n",
              "      <td>4561</td>\n",
              "      <td>-26.0</td>\n",
              "      <td>-15.0</td>\n",
              "      <td>-45.0</td>\n",
              "      <td>-44.0</td>\n",
              "      <td>-19.0</td>\n",
              "      <td>7.0</td>\n",
              "      <td>-80.551706</td>\n",
              "      <td>17.79</td>\n",
              "      <td>14.58</td>\n",
              "      <td>20.41</td>\n",
              "      <td>76.32</td>\n",
              "      <td>9.58</td>\n",
              "      <td>101.52</td>\n",
              "      <td>2021-01-16</td>\n",
              "      <td>2408.0</td>\n",
              "      <td>2564.0625</td>\n",
              "      <td>4478.5000</td>\n",
              "    </tr>\n",
              "    <tr>\n",
              "      <th>337</th>\n",
              "      <td>337</td>\n",
              "      <td>2021-01-17</td>\n",
              "      <td>801889</td>\n",
              "      <td>1206122</td>\n",
              "      <td>84012086</td>\n",
              "      <td>Miami-Dade County</td>\n",
              "      <td>Florida</td>\n",
              "      <td>United States</td>\n",
              "      <td>25.611236</td>\n",
              "      <td>-80.551706</td>\n",
              "      <td>Miami-Dade, Florida, US</td>\n",
              "      <td>344246</td>\n",
              "      <td>sub_region</td>\n",
              "      <td>4595</td>\n",
              "      <td>-27.0</td>\n",
              "      <td>-19.0</td>\n",
              "      <td>-46.0</td>\n",
              "      <td>-47.0</td>\n",
              "      <td>-20.0</td>\n",
              "      <td>6.0</td>\n",
              "      <td>-80.551706</td>\n",
              "      <td>15.92</td>\n",
              "      <td>13.00</td>\n",
              "      <td>18.14</td>\n",
              "      <td>72.44</td>\n",
              "      <td>8.05</td>\n",
              "      <td>101.77</td>\n",
              "      <td>2021-01-17</td>\n",
              "      <td>2404.0</td>\n",
              "      <td>2568.5625</td>\n",
              "      <td>4503.8750</td>\n",
              "    </tr>\n",
              "    <tr>\n",
              "      <th>338</th>\n",
              "      <td>338</td>\n",
              "      <td>2021-01-18</td>\n",
              "      <td>803940</td>\n",
              "      <td>1209462</td>\n",
              "      <td>84012086</td>\n",
              "      <td>Miami-Dade County</td>\n",
              "      <td>Florida</td>\n",
              "      <td>United States</td>\n",
              "      <td>25.611236</td>\n",
              "      <td>-80.551706</td>\n",
              "      <td>Miami-Dade, Florida, US</td>\n",
              "      <td>346090</td>\n",
              "      <td>sub_region</td>\n",
              "      <td>4617</td>\n",
              "      <td>-26.0</td>\n",
              "      <td>-18.0</td>\n",
              "      <td>-40.0</td>\n",
              "      <td>-47.0</td>\n",
              "      <td>-43.0</td>\n",
              "      <td>13.0</td>\n",
              "      <td>-80.551706</td>\n",
              "      <td>18.05</td>\n",
              "      <td>16.51</td>\n",
              "      <td>20.26</td>\n",
              "      <td>75.94</td>\n",
              "      <td>9.65</td>\n",
              "      <td>102.02</td>\n",
              "      <td>2021-01-18</td>\n",
              "      <td>1844.0</td>\n",
              "      <td>2518.5000</td>\n",
              "      <td>4531.1250</td>\n",
              "    </tr>\n",
              "    <tr>\n",
              "      <th>339</th>\n",
              "      <td>339</td>\n",
              "      <td>2021-01-19</td>\n",
              "      <td>806580</td>\n",
              "      <td>1212802</td>\n",
              "      <td>84012086</td>\n",
              "      <td>Miami-Dade County</td>\n",
              "      <td>Florida</td>\n",
              "      <td>United States</td>\n",
              "      <td>25.611236</td>\n",
              "      <td>-80.551706</td>\n",
              "      <td>Miami-Dade, Florida, US</td>\n",
              "      <td>347965</td>\n",
              "      <td>sub_region</td>\n",
              "      <td>4622</td>\n",
              "      <td>-26.0</td>\n",
              "      <td>-14.0</td>\n",
              "      <td>-44.0</td>\n",
              "      <td>-45.0</td>\n",
              "      <td>-31.0</td>\n",
              "      <td>11.0</td>\n",
              "      <td>-80.551706</td>\n",
              "      <td>17.82</td>\n",
              "      <td>14.45</td>\n",
              "      <td>21.40</td>\n",
              "      <td>74.62</td>\n",
              "      <td>9.31</td>\n",
              "      <td>102.43</td>\n",
              "      <td>2021-01-19</td>\n",
              "      <td>1875.0</td>\n",
              "      <td>2380.8750</td>\n",
              "      <td>4558.8125</td>\n",
              "    </tr>\n",
              "    <tr>\n",
              "      <th>340</th>\n",
              "      <td>340</td>\n",
              "      <td>2021-01-20</td>\n",
              "      <td>809209</td>\n",
              "      <td>1216142</td>\n",
              "      <td>84012086</td>\n",
              "      <td>Miami-Dade County</td>\n",
              "      <td>Florida</td>\n",
              "      <td>United States</td>\n",
              "      <td>25.611236</td>\n",
              "      <td>-80.551706</td>\n",
              "      <td>Miami-Dade, Florida, US</td>\n",
              "      <td>350252</td>\n",
              "      <td>sub_region</td>\n",
              "      <td>4630</td>\n",
              "      <td>-29.0</td>\n",
              "      <td>-20.0</td>\n",
              "      <td>-46.0</td>\n",
              "      <td>-45.0</td>\n",
              "      <td>-31.0</td>\n",
              "      <td>12.0</td>\n",
              "      <td>-80.551706</td>\n",
              "      <td>18.81</td>\n",
              "      <td>16.17</td>\n",
              "      <td>21.78</td>\n",
              "      <td>75.74</td>\n",
              "      <td>10.07</td>\n",
              "      <td>102.28</td>\n",
              "      <td>2021-01-20</td>\n",
              "      <td>2287.0</td>\n",
              "      <td>2269.4375</td>\n",
              "      <td>4584.0000</td>\n",
              "    </tr>\n",
              "    <tr>\n",
              "      <th>341</th>\n",
              "      <td>341</td>\n",
              "      <td>2021-01-21</td>\n",
              "      <td>811841</td>\n",
              "      <td>1219482</td>\n",
              "      <td>84012086</td>\n",
              "      <td>Miami-Dade County</td>\n",
              "      <td>Florida</td>\n",
              "      <td>United States</td>\n",
              "      <td>25.611236</td>\n",
              "      <td>-80.551706</td>\n",
              "      <td>Miami-Dade, Florida, US</td>\n",
              "      <td>352405</td>\n",
              "      <td>sub_region</td>\n",
              "      <td>4644</td>\n",
              "      <td>-27.0</td>\n",
              "      <td>-17.0</td>\n",
              "      <td>-43.0</td>\n",
              "      <td>-43.0</td>\n",
              "      <td>-31.0</td>\n",
              "      <td>11.0</td>\n",
              "      <td>-80.551706</td>\n",
              "      <td>18.48</td>\n",
              "      <td>14.72</td>\n",
              "      <td>22.32</td>\n",
              "      <td>76.68</td>\n",
              "      <td>10.03</td>\n",
              "      <td>101.90</td>\n",
              "      <td>2021-01-21</td>\n",
              "      <td>2153.0</td>\n",
              "      <td>2152.5625</td>\n",
              "      <td>4604.5625</td>\n",
              "    </tr>\n",
              "    <tr>\n",
              "      <th>342</th>\n",
              "      <td>342</td>\n",
              "      <td>2021-01-22</td>\n",
              "      <td>814462</td>\n",
              "      <td>1222822</td>\n",
              "      <td>84012086</td>\n",
              "      <td>Miami-Dade County</td>\n",
              "      <td>Florida</td>\n",
              "      <td>United States</td>\n",
              "      <td>25.611236</td>\n",
              "      <td>-80.551706</td>\n",
              "      <td>Miami-Dade, Florida, US</td>\n",
              "      <td>354704</td>\n",
              "      <td>sub_region</td>\n",
              "      <td>4678</td>\n",
              "      <td>-25.0</td>\n",
              "      <td>-13.0</td>\n",
              "      <td>-41.0</td>\n",
              "      <td>-43.0</td>\n",
              "      <td>-28.0</td>\n",
              "      <td>11.0</td>\n",
              "      <td>-80.551706</td>\n",
              "      <td>19.55</td>\n",
              "      <td>16.79</td>\n",
              "      <td>23.01</td>\n",
              "      <td>83.25</td>\n",
              "      <td>11.68</td>\n",
              "      <td>101.61</td>\n",
              "      <td>2021-01-22</td>\n",
              "      <td>2299.0</td>\n",
              "      <td>2107.1250</td>\n",
              "      <td>4621.6250</td>\n",
              "    </tr>\n",
              "  </tbody>\n",
              "</table>\n",
              "</div>"
            ],
            "text/plain": [
              "     Unnamed: 0        date  ...  rolling_7_cases  rolling_7_deaths\n",
              "323         323  2021-01-03  ...        2492.1250         4189.6875\n",
              "324         324  2021-01-04  ...        2418.3125         4205.8125\n",
              "325         325  2021-01-05  ...        2682.2500         4224.1875\n",
              "326         326  2021-01-06  ...        2654.5000         4239.1875\n",
              "327         327  2021-01-07  ...        2815.9375         4251.9375\n",
              "328         328  2021-01-08  ...        3060.3125         4265.1875\n",
              "329         329  2021-01-09  ...        3055.3750         4280.8750\n",
              "330         330  2021-01-10  ...        3137.2500         4304.8125\n",
              "331         331  2021-01-11  ...        3025.0625         4334.8750\n",
              "332         332  2021-01-12  ...        2824.9375         4367.6875\n",
              "333         333  2021-01-13  ...        2656.3750         4400.4375\n",
              "334         334  2021-01-14  ...        2548.6875         4429.0625\n",
              "335         335  2021-01-15  ...        2557.8750         4454.1250\n",
              "336         336  2021-01-16  ...        2564.0625         4478.5000\n",
              "337         337  2021-01-17  ...        2568.5625         4503.8750\n",
              "338         338  2021-01-18  ...        2518.5000         4531.1250\n",
              "339         339  2021-01-19  ...        2380.8750         4558.8125\n",
              "340         340  2021-01-20  ...        2269.4375         4584.0000\n",
              "341         341  2021-01-21  ...        2152.5625         4604.5625\n",
              "342         342  2021-01-22  ...        2107.1250         4621.6250\n",
              "\n",
              "[20 rows x 31 columns]"
            ]
          },
          "metadata": {
            "tags": []
          },
          "execution_count": 7
        }
      ]
    },
    {
      "cell_type": "markdown",
      "metadata": {
        "id": "LPZhqNb6zDp7"
      },
      "source": [
        "## Model setup"
      ]
    },
    {
      "cell_type": "code",
      "metadata": {
        "id": "h5U21Fh0raKo",
        "colab": {
          "base_uri": "https://localhost:8080/"
        },
        "outputId": "e1d2c06f-5f51-4428-aa4c-ff63b2e39a19"
      },
      "source": [
        "!wandb login\n",
        "os.environ['MODEL_BUCKET'] = \"coronaviruspublicdata\"\n",
        "os.environ[\"ENVIRONMENT_GCP\"] = \"Colab\"\n",
        "os.environ[\"GCP_PROJECT\"] = \"gmap-997\""
      ],
      "execution_count": null,
      "outputs": [
        {
          "output_type": "stream",
          "text": [
            "\u001b[34m\u001b[1mwandb\u001b[0m: You can find your API key in your browser here: https://wandb.ai/authorize\n",
            "\u001b[34m\u001b[1mwandb\u001b[0m: Paste an API key from your profile and hit enter: \n",
            "\u001b[34m\u001b[1mwandb\u001b[0m: Appending key for api.wandb.ai to your netrc file: /root/.netrc\n"
          ],
          "name": "stdout"
        }
      ]
    },
    {
      "cell_type": "code",
      "metadata": {
        "id": "TOuvtjSmtUbO"
      },
      "source": [
        "import json\n",
        "import os\n",
        "import subprocess as subp\n",
        "from flood_forecast.trainer import train_function\n",
        "import traceback\n",
        "from flood_forecast.long_train import split_on_letter\n",
        "\n",
        "def make_config_file(flow_file_path, gage_id, station_id, weight_path=None, pretrained=[]):\n",
        "  run = wandb.init(project=\"experiment_results_covid\")\n",
        "  wandb_config = run.config\n",
        "  the_wandb_c = run.config\n",
        "  print(wandb_config)\n",
        "  the_config4 = {                 \n",
        "    \"model_name\": \"DecoderTransformer\",\n",
        "    \"model_type\": \"PyTorch\",\n",
        "    \"model_params\": {\n",
        "        \"n_time_series\":18,\n",
        "        \"n_head\": 8,\n",
        "        \"forecast_history\":wandb_config[\"forecast_history\"],\n",
        "        \"n_embd\":wandb_config[\"n_embedding\"],\n",
        "        \"num_layer\": wandb_config[\"num_layer\"],\n",
        "        \"q_len\": 1,\n",
        "        \"dropout\": wandb_config[\"dropout\"],\n",
        "        \"forecast_length\":wandb_config[\"forecast_length\"],\n",
        "        \"additional_params\":{}\n",
        "     }, \n",
        "    \"dataset_params\":\n",
        "    {  \"class\": \"default\",\n",
        "       \"num_workers\":5,\n",
        "       \"pin_memory\": True,\n",
        "       \"training_path\": flow_file_path,\n",
        "       \"validation_path\": flow_file_path,\n",
        "       \"test_path\": flow_file_path,\n",
        "       \"batch_size\":wandb_config[\"batch_size\"],\n",
        "       \"forecast_history\":wandb_config[\"forecast_history\"],\n",
        "       \"forecast_length\":wandb_config[\"forecast_length\"],\n",
        "       \"scaler\": \"StandardScaler\", \n",
        "       \"train_start\":0,\n",
        "       \"train_end\": 170,\n",
        "       \"valid_start\":170,\n",
        "       \"valid_end\": 310,\n",
        "       \"sort_column\": \"date\",\n",
        "       \"test_start\": 170,\n",
        "       \"test_end\":310,\n",
        "       \"target_col\": [\"rolling_7_cases\", \"rolling_7_deaths\"],\n",
        "       \"relevant_cols\": ['rolling_7_cases', \"rolling_7_deaths\",'mobility_retail_recreation', 'mobility_grocery_pharmacy',\n",
        "                          'mobility_parks', 'mobility_transit_stations', 'mobility_workplaces',\n",
        "                          'mobility_residential', \"avg_temperature\",\t\"min_temperature\",\t\"max_temperature\",\t\"relative_humidity\",\t\"specific_humidity\",\t\"pressure\"], \n",
        "       \"feature_param\":{\n",
        "           \"datetime_params\":{\n",
        "               \"day_of_week\":\"cyclical\",\n",
        "               \"month\":\"cyclical\"\n",
        "           }\n",
        "       },\n",
        "       \"interpolate\":False\n",
        "    },\n",
        "    \"training_params\":\n",
        "    {\n",
        "       \"criterion\":\"MASELoss\",\n",
        "       \"optimizer\": wandb_config[\"optimizer\"],\n",
        "       \"criterion_params\":{\"baseline_method\":\"mean\"},\n",
        "    \"optim_params\":{\n",
        "       \"lr\": the_wandb_c[\"lr\"]\n",
        "    },\n",
        "       \"epochs\": 10,\n",
        "       \"batch_size\":wandb_config[\"batch_size\"]\n",
        "    },\n",
        "    \"early_stopping\":{\n",
        "        \"patience\":3\n",
        "    },\n",
        "    \"GCS\": True,\n",
        "    \"sweep\":True,\n",
        "    \"wandb\":False,\n",
        "    \"forward_params\":{},\n",
        "   \"metrics\":[\"MSE\", \"DilateLoss\"],\n",
        "   \"inference_params\":\n",
        "   {     \n",
        "         \"datetime_start\":\"2020-12-14\",\n",
        "          \"hours_to_forecast\":18, \n",
        "          \"num_prediction_samples\": 20,\n",
        "          \"test_csv_path\":flow_file_path,\n",
        "          \"decoder_params\":{\n",
        "            \"decoder_function\": \"simple_decode\", \n",
        "            \"unsqueeze_dim\": 1},\n",
        "          \"dataset_params\":{\n",
        "             \"file_path\": flow_file_path,\n",
        "             \"sort_column\": \"date\",\n",
        "             \"scaling\": \"StandardScaler\",\n",
        "             \"forecast_history\": wandb_config[\"forecast_history\"],\n",
        "             \"forecast_length\":wandb_config[\"forecast_length\"],\n",
        "             \"relevant_cols\":[\"rolling_7_cases\", \"rolling_7_deaths\", 'mobility_retail_recreation', 'mobility_grocery_pharmacy',\n",
        "                          'mobility_parks', 'mobility_transit_stations', 'mobility_workplaces',\n",
        "                          'mobility_residential', \"avg_temperature\",\t\"min_temperature\",\t\"max_temperature\",\t\"relative_humidity\",\t\"specific_humidity\",\t\"pressure\"],\n",
        "             \"target_col\": [\"rolling_7_cases\", \"rolling_7_deaths\"],\n",
        "             \"interpolate_param\":False,\n",
        "             \"feature_params\":{\n",
        "              \"datetime_params\":{\n",
        "               \"day_of_week\":\"cyclical\",\n",
        "               \"month\":\"cyclical\"\n",
        "           }\n",
        "       }\n",
        "          }\n",
        "          } \n",
        "    }\n",
        "\n",
        "      \n",
        "  if weight_path:\n",
        "    the_config4[\"weight_path\"] = weight_path\n",
        "  wandb.config.update(the_config4)\n",
        "  return the_config4\n",
        "  \n",
        "sweep_config = {\n",
        "  \"name\": \"Default sweep\",\n",
        "  \"method\": \"grid\",\n",
        "  \"parameters\": {\n",
        "        \"forecast_history\":\n",
        "        {\n",
        "            \"values\": [5, 8, 10, 20]\n",
        "        },\n",
        "        \"batch_size\": {\n",
        "            \"values\": [2, 4, 10, 20]\n",
        "        },\n",
        "        \"lr\":{\n",
        "            \"values\":[.00001, .001]\n",
        "        },\n",
        "        \"forecast_length\":{\n",
        "            \"values\":[1, 2, 5]\n",
        "        },\n",
        "        \"num_layer\":{\n",
        "            \"values\":[2, 5, 10]\n",
        "        },\n",
        "        \"n_embedding\":{\n",
        "            \"values\":[32, 64, 128]\n",
        "        },\n",
        "        \"optimizer\":{\n",
        "            \"values\":[\"SGD\"]\n",
        "        },\n",
        "        \"dropout\":{\n",
        "            \"values\": [.3, .5, .7]\n",
        "        }\n",
        "        #\"scaling\"{\n",
        "            #values=[\"RobustScaler\", \"StandardScaler\"]\n",
        "       #}\n",
        "    }\n",
        "}"
      ],
      "execution_count": null,
      "outputs": []
    },
    {
      "cell_type": "code",
      "metadata": {
        "id": "EYnGqMuMtpHo",
        "colab": {
          "base_uri": "https://localhost:8080/",
          "height": 1000,
          "referenced_widgets": [
            "6b2aab8a856d4b8c988c618dc8dae582",
            "12152329747144ef8742ca0c698601a5",
            "82fc15f8a24b4d68924d7845f6bcc212",
            "e8e201da8bb54a65a09fd350dcfd227c",
            "8ab94cee596740f9b277b9472fd387f5",
            "67a72da46ec343b1b3094f0513db5834",
            "d4f7f61dcfb141cb80e547410a1b08e7",
            "b99fb35e4b504a1bab76d2f7b855609e",
            "b63bad68c319438892138ff5d43e5795",
            "799beae85c894abfb2cbd7b0286cbbb4",
            "d2cf43a748b6468e8de13fa6f51b8c2c",
            "0c5988466ed44e70bd1fcccafead53ac",
            "db84f48af05a4866856685f46bc7a7f0",
            "53ac8ef50e0b4e16ac81e5776868a131",
            "39982451d818481483b7547c8f040140",
            "50e506cc86154605b0bddef5a3809545",
            "8ab2aa58adab4b94b732724d87f4e8dc",
            "312cc1cc95b7421fb8f9c1380c1cebcc",
            "880ef1b0bf2b422ab949293d8eb5efd3",
            "f601f45c0682473084774383c0a68536",
            "1cc79c08b5aa4c40942536e823f76c86",
            "0bcfb5a8ed1440d8a10082534089acdb",
            "d12faaa0ca8b4be6966715fccf86a1c2",
            "c4caaf69942940b8beb79dbaa21bd97d"
          ]
        },
        "outputId": "d4154f7f-b57d-43a9-b4e8-890476a85ea7"
      },
      "source": [
        "import wandb\n",
        "sweep_full = wandb.sweep(sweep_config, project=\"covid_icml\")\n",
        "#sweep_id = \"21i08e3p\"\n",
        "wandb.agent(sweep_full, lambda:train_function(\"PyTorch\", make_config_file(\"/content/flow-forecast/miami_f.csv\", \"miami_dade\", \"rolling\")))\n"
      ],
      "execution_count": null,
      "outputs": [
        {
          "output_type": "stream",
          "text": [
            "Create sweep with ID: ttnyy89p\n",
            "Sweep URL: https://wandb.ai/igodfried/covid_icml/sweeps/ttnyy89p\n"
          ],
          "name": "stdout"
        },
        {
          "output_type": "stream",
          "text": [
            "\u001b[34m\u001b[1mwandb\u001b[0m: Agent Starting Run: aydzdtla with config:\n",
            "\u001b[34m\u001b[1mwandb\u001b[0m: \tbatch_size: 2\n",
            "\u001b[34m\u001b[1mwandb\u001b[0m: \tdropout: 0.3\n",
            "\u001b[34m\u001b[1mwandb\u001b[0m: \tforecast_history: 5\n",
            "\u001b[34m\u001b[1mwandb\u001b[0m: \tforecast_length: 1\n",
            "\u001b[34m\u001b[1mwandb\u001b[0m: \tlr: 1e-05\n",
            "\u001b[34m\u001b[1mwandb\u001b[0m: \tn_embedding: 32\n",
            "\u001b[34m\u001b[1mwandb\u001b[0m: \tnum_layer: 2\n",
            "\u001b[34m\u001b[1mwandb\u001b[0m: \toptimizer: SGD\n",
            "\u001b[34m\u001b[1mwandb\u001b[0m: Currently logged in as: \u001b[33migodfried\u001b[0m (use `wandb login --relogin` to force relogin)\n",
            "\u001b[34m\u001b[1mwandb\u001b[0m: \u001b[33mWARNING\u001b[0m Ignored wandb.init() arg project when running a sweep\n"
          ],
          "name": "stderr"
        },
        {
          "output_type": "display_data",
          "data": {
            "text/html": [
              "\n",
              "                Tracking run with wandb version 0.10.15<br/>\n",
              "                Syncing run <strong style=\"color:#cdcd00\">prime-sweep-1</strong> to <a href=\"https://wandb.ai\" target=\"_blank\">Weights & Biases</a> <a href=\"https://docs.wandb.com/integrations/jupyter.html\" target=\"_blank\">(Documentation)</a>.<br/>\n",
              "                Project page: <a href=\"https://wandb.ai/igodfried/covid_icml\" target=\"_blank\">https://wandb.ai/igodfried/covid_icml</a><br/>\n",
              "                Sweep page: <a href=\"https://wandb.ai/igodfried/covid_icml/sweeps/ttnyy89p\" target=\"_blank\">https://wandb.ai/igodfried/covid_icml/sweeps/ttnyy89p</a><br/>\n",
              "Run page: <a href=\"https://wandb.ai/igodfried/covid_icml/runs/aydzdtla\" target=\"_blank\">https://wandb.ai/igodfried/covid_icml/runs/aydzdtla</a><br/>\n",
              "                Run data is saved locally in <code>/content/flow-forecast/wandb/run-20210126_085139-aydzdtla</code><br/><br/>\n",
              "            "
            ],
            "text/plain": [
              "<IPython.core.display.HTML object>"
            ]
          },
          "metadata": {
            "tags": []
          }
        },
        {
          "output_type": "stream",
          "text": [
            "{'batch_size': 2, 'dropout': 0.3, 'forecast_history': 5, 'forecast_length': 1, 'lr': 1e-05, 'n_embedding': 32, 'num_layer': 2, 'optimizer': 'SGD'}\n",
            "interpolate should be below\n",
            "running feature fix code s\n",
            "Relevant cols are\n",
            "['cos_day_of_week', 'sin_day_of_week', 'cos_month', 'sin_month']\n",
            "Now loading/content/flow-forecast/miami_f.csv\n",
            "scaling now\n",
            "2\n",
            "Error nan values detected in data. Please run interpolate ffill or bfill on data\n",
            "interpolate should be below\n",
            "running feature fix code s\n",
            "Relevant cols are\n",
            "['cos_day_of_week', 'sin_day_of_week', 'cos_month', 'sin_month']\n",
            "Now loading/content/flow-forecast/miami_f.csv\n",
            "scaling now\n",
            "2\n",
            "interpolate should be below\n",
            "running feature fix code s\n",
            "Relevant cols are\n",
            "['cos_day_of_week', 'sin_day_of_week', 'cos_month', 'sin_month']\n",
            "Now loading/content/flow-forecast/miami_f.csv\n",
            "scaling now\n",
            "2\n",
            "Using Wandb config:\n",
            "{'batch_size': 2, 'dropout': 0.3, 'forecast_history': 5, 'forecast_length': 1, 'lr': 1e-05, 'n_embedding': 32, 'num_layer': 2, 'optimizer': 'SGD', 'model_name': 'DecoderTransformer', 'model_type': 'PyTorch', 'model_params': {'n_time_series': 18, 'n_head': 8, 'forecast_history': 5, 'n_embd': 32, 'num_layer': 2, 'q_len': 1, 'dropout': 0.3, 'forecast_length': 1, 'additional_params': {}}, 'dataset_params': {'class': 'default', 'num_workers': 5, 'pin_memory': True, 'training_path': '/content/flow-forecast/miami_f.csv', 'validation_path': '/content/flow-forecast/miami_f.csv', 'test_path': '/content/flow-forecast/miami_f.csv', 'batch_size': 2, 'forecast_history': 5, 'forecast_length': 1, 'scaler': 'StandardScaler', 'train_start': 0, 'train_end': 170, 'valid_start': 170, 'valid_end': 310, 'sort_column': 'date', 'test_start': 170, 'test_end': 310, 'target_col': ['rolling_7_cases', 'rolling_7_deaths'], 'relevant_cols': ['rolling_7_cases', 'rolling_7_deaths', 'mobility_retail_recreation', 'mobility_grocery_pharmacy', 'mobility_parks', 'mobility_transit_stations', 'mobility_workplaces', 'mobility_residential', 'avg_temperature', 'min_temperature', 'max_temperature', 'relative_humidity', 'specific_humidity', 'pressure'], 'feature_param': {'datetime_params': {'day_of_week': 'cyclical', 'month': 'cyclical'}}, 'interpolate': False}, 'training_params': {'criterion': 'MASELoss', 'optimizer': 'SGD', 'criterion_params': {'baseline_method': 'mean'}, 'optim_params': {'lr': 1e-05}, 'epochs': 10, 'batch_size': 2}, 'early_stopping': {'patience': 3}, 'GCS': True, 'sweep': True, 'wandb': False, 'forward_params': {}, 'metrics': ['MSE', 'DilateLoss'], 'inference_params': {'datetime_start': '2020-12-14', 'hours_to_forecast': 18, 'num_prediction_samples': 20, 'test_csv_path': '/content/flow-forecast/miami_f.csv', 'decoder_params': {'decoder_function': 'simple_decode', 'unsqueeze_dim': 1}, 'dataset_params': {'file_path': '/content/flow-forecast/miami_f.csv', 'sort_column': 'date', 'scaling': 'StandardScaler', 'forecast_history': 5, 'forecast_length': 1, 'relevant_cols': ['rolling_7_cases', 'rolling_7_deaths', 'mobility_retail_recreation', 'mobility_grocery_pharmacy', 'mobility_parks', 'mobility_transit_stations', 'mobility_workplaces', 'mobility_residential', 'avg_temperature', 'min_temperature', 'max_temperature', 'relative_humidity', 'specific_humidity', 'pressure'], 'target_col': ['rolling_7_cases', 'rolling_7_deaths'], 'interpolate_param': False, 'feature_params': {'datetime_params': {'day_of_week': 'cyclical', 'month': 'cyclical'}}}}}\n",
            "Torch is using cpu\n",
            "Pin memory set to true\n",
            "running torch_single_train\n"
          ],
          "name": "stdout"
        },
        {
          "output_type": "stream",
          "text": [
            "To copy construct from a tensor, it is recommended to use sourceTensor.clone().detach() or sourceTensor.clone().detach().requires_grad_(True), rather than torch.tensor(sourceTensor).\n",
            "Using a target size (torch.Size([1, 2, 1])) that is different to the input size (torch.Size([2, 2, 18])). This will likely lead to incorrect results due to broadcasting. Please ensure they have the same size.\n"
          ],
          "name": "stderr"
        },
        {
          "output_type": "display_data",
          "data": {
            "text/html": [
              "<br/>Waiting for W&B process to finish, PID 791<br/>Program failed with code 1.  Press ctrl-c to abort syncing."
            ],
            "text/plain": [
              "<IPython.core.display.HTML object>"
            ]
          },
          "metadata": {
            "tags": []
          }
        },
        {
          "output_type": "display_data",
          "data": {
            "application/vnd.jupyter.widget-view+json": {
              "model_id": "6b2aab8a856d4b8c988c618dc8dae582",
              "version_minor": 0,
              "version_major": 2
            },
            "text/plain": [
              "VBox(children=(Label(value=' 0.00MB of 0.00MB uploaded (0.00MB deduped)\\r'), FloatProgress(value=1.0, max=1.0)…"
            ]
          },
          "metadata": {
            "tags": []
          }
        },
        {
          "output_type": "display_data",
          "data": {
            "text/html": [
              "Find user logs for this run at: <code>/content/flow-forecast/wandb/run-20210126_085139-aydzdtla/logs/debug.log</code>"
            ],
            "text/plain": [
              "<IPython.core.display.HTML object>"
            ]
          },
          "metadata": {
            "tags": []
          }
        },
        {
          "output_type": "display_data",
          "data": {
            "text/html": [
              "Find internal logs for this run at: <code>/content/flow-forecast/wandb/run-20210126_085139-aydzdtla/logs/debug-internal.log</code>"
            ],
            "text/plain": [
              "<IPython.core.display.HTML object>"
            ]
          },
          "metadata": {
            "tags": []
          }
        },
        {
          "output_type": "display_data",
          "data": {
            "text/html": [
              "<h3>Run summary:</h3><br/><style>\n",
              "    table.wandb td:nth-child(1) { padding: 0 10px; text-align: right }\n",
              "    </style><table class=\"wandb\">\n",
              "</table>"
            ],
            "text/plain": [
              "<IPython.core.display.HTML object>"
            ]
          },
          "metadata": {
            "tags": []
          }
        },
        {
          "output_type": "display_data",
          "data": {
            "text/html": [
              "Synced 5 W&B file(s), 1 media file(s), 0 artifact file(s) and 0 other file(s)"
            ],
            "text/plain": [
              "<IPython.core.display.HTML object>"
            ]
          },
          "metadata": {
            "tags": []
          }
        },
        {
          "output_type": "display_data",
          "data": {
            "text/html": [
              "\n",
              "                    <br/>Synced <strong style=\"color:#cdcd00\">prime-sweep-1</strong>: <a href=\"https://wandb.ai/igodfried/covid_icml/runs/aydzdtla\" target=\"_blank\">https://wandb.ai/igodfried/covid_icml/runs/aydzdtla</a><br/>\n",
              "                "
            ],
            "text/plain": [
              "<IPython.core.display.HTML object>"
            ]
          },
          "metadata": {
            "tags": []
          }
        },
        {
          "output_type": "stream",
          "text": [
            "Run aydzdtla errored: ValueError('Error infinite or NaN loss detected. Try normalizing data or performing interpolation',)\n",
            "\u001b[34m\u001b[1mwandb\u001b[0m: \u001b[32m\u001b[41mERROR\u001b[0m Run aydzdtla errored: ValueError('Error infinite or NaN loss detected. Try normalizing data or performing interpolation',)\n",
            "\u001b[34m\u001b[1mwandb\u001b[0m: Agent Starting Run: 1rzscg9t with config:\n",
            "\u001b[34m\u001b[1mwandb\u001b[0m: \tbatch_size: 2\n",
            "\u001b[34m\u001b[1mwandb\u001b[0m: \tdropout: 0.3\n",
            "\u001b[34m\u001b[1mwandb\u001b[0m: \tforecast_history: 5\n",
            "\u001b[34m\u001b[1mwandb\u001b[0m: \tforecast_length: 1\n",
            "\u001b[34m\u001b[1mwandb\u001b[0m: \tlr: 1e-05\n",
            "\u001b[34m\u001b[1mwandb\u001b[0m: \tn_embedding: 32\n",
            "\u001b[34m\u001b[1mwandb\u001b[0m: \tnum_layer: 5\n",
            "\u001b[34m\u001b[1mwandb\u001b[0m: \toptimizer: SGD\n",
            "\u001b[34m\u001b[1mwandb\u001b[0m: \u001b[33mWARNING\u001b[0m Ignored wandb.init() arg project when running a sweep\n"
          ],
          "name": "stderr"
        },
        {
          "output_type": "display_data",
          "data": {
            "text/html": [
              "\n",
              "                Tracking run with wandb version 0.10.15<br/>\n",
              "                Syncing run <strong style=\"color:#cdcd00\">silver-sweep-2</strong> to <a href=\"https://wandb.ai\" target=\"_blank\">Weights & Biases</a> <a href=\"https://docs.wandb.com/integrations/jupyter.html\" target=\"_blank\">(Documentation)</a>.<br/>\n",
              "                Project page: <a href=\"https://wandb.ai/igodfried/covid_icml\" target=\"_blank\">https://wandb.ai/igodfried/covid_icml</a><br/>\n",
              "                Sweep page: <a href=\"https://wandb.ai/igodfried/covid_icml/sweeps/ttnyy89p\" target=\"_blank\">https://wandb.ai/igodfried/covid_icml/sweeps/ttnyy89p</a><br/>\n",
              "Run page: <a href=\"https://wandb.ai/igodfried/covid_icml/runs/1rzscg9t\" target=\"_blank\">https://wandb.ai/igodfried/covid_icml/runs/1rzscg9t</a><br/>\n",
              "                Run data is saved locally in <code>/content/flow-forecast/wandb/run-20210126_085147-1rzscg9t</code><br/><br/>\n",
              "            "
            ],
            "text/plain": [
              "<IPython.core.display.HTML object>"
            ]
          },
          "metadata": {
            "tags": []
          }
        },
        {
          "output_type": "stream",
          "text": [
            "{'batch_size': 2, 'dropout': 0.3, 'forecast_history': 5, 'forecast_length': 1, 'lr': 1e-05, 'n_embedding': 32, 'num_layer': 5, 'optimizer': 'SGD'}\n",
            "interpolate should be below\n",
            "running feature fix code s\n",
            "Relevant cols are\n",
            "['cos_day_of_week', 'sin_day_of_week', 'cos_month', 'sin_month']\n",
            "Now loading/content/flow-forecast/miami_f.csv\n",
            "scaling now\n",
            "2\n",
            "Error nan values detected in data. Please run interpolate ffill or bfill on data\n",
            "interpolate should be below\n",
            "running feature fix code s\n",
            "Relevant cols are\n",
            "['cos_day_of_week', 'sin_day_of_week', 'cos_month', 'sin_month']\n",
            "Now loading/content/flow-forecast/miami_f.csv\n",
            "scaling now\n",
            "2\n",
            "interpolate should be below\n",
            "running feature fix code s\n",
            "Relevant cols are\n",
            "['cos_day_of_week', 'sin_day_of_week', 'cos_month', 'sin_month']\n",
            "Now loading/content/flow-forecast/miami_f.csv\n",
            "scaling now\n",
            "2\n",
            "Using Wandb config:\n",
            "{'batch_size': 2, 'dropout': 0.3, 'forecast_history': 5, 'forecast_length': 1, 'lr': 1e-05, 'n_embedding': 32, 'num_layer': 5, 'optimizer': 'SGD', 'model_name': 'DecoderTransformer', 'model_type': 'PyTorch', 'model_params': {'n_time_series': 18, 'n_head': 8, 'forecast_history': 5, 'n_embd': 32, 'num_layer': 5, 'q_len': 1, 'dropout': 0.3, 'forecast_length': 1, 'additional_params': {}}, 'dataset_params': {'class': 'default', 'num_workers': 5, 'pin_memory': True, 'training_path': '/content/flow-forecast/miami_f.csv', 'validation_path': '/content/flow-forecast/miami_f.csv', 'test_path': '/content/flow-forecast/miami_f.csv', 'batch_size': 2, 'forecast_history': 5, 'forecast_length': 1, 'scaler': 'StandardScaler', 'train_start': 0, 'train_end': 170, 'valid_start': 170, 'valid_end': 310, 'sort_column': 'date', 'test_start': 170, 'test_end': 310, 'target_col': ['rolling_7_cases', 'rolling_7_deaths'], 'relevant_cols': ['rolling_7_cases', 'rolling_7_deaths', 'mobility_retail_recreation', 'mobility_grocery_pharmacy', 'mobility_parks', 'mobility_transit_stations', 'mobility_workplaces', 'mobility_residential', 'avg_temperature', 'min_temperature', 'max_temperature', 'relative_humidity', 'specific_humidity', 'pressure'], 'feature_param': {'datetime_params': {'day_of_week': 'cyclical', 'month': 'cyclical'}}, 'interpolate': False}, 'training_params': {'criterion': 'MASELoss', 'optimizer': 'SGD', 'criterion_params': {'baseline_method': 'mean'}, 'optim_params': {'lr': 1e-05}, 'epochs': 10, 'batch_size': 2}, 'early_stopping': {'patience': 3}, 'GCS': True, 'sweep': True, 'wandb': False, 'forward_params': {}, 'metrics': ['MSE', 'DilateLoss'], 'inference_params': {'datetime_start': '2020-12-14', 'hours_to_forecast': 18, 'num_prediction_samples': 20, 'test_csv_path': '/content/flow-forecast/miami_f.csv', 'decoder_params': {'decoder_function': 'simple_decode', 'unsqueeze_dim': 1}, 'dataset_params': {'file_path': '/content/flow-forecast/miami_f.csv', 'sort_column': 'date', 'scaling': 'StandardScaler', 'forecast_history': 5, 'forecast_length': 1, 'relevant_cols': ['rolling_7_cases', 'rolling_7_deaths', 'mobility_retail_recreation', 'mobility_grocery_pharmacy', 'mobility_parks', 'mobility_transit_stations', 'mobility_workplaces', 'mobility_residential', 'avg_temperature', 'min_temperature', 'max_temperature', 'relative_humidity', 'specific_humidity', 'pressure'], 'target_col': ['rolling_7_cases', 'rolling_7_deaths'], 'interpolate_param': False, 'feature_params': {'datetime_params': {'day_of_week': 'cyclical', 'month': 'cyclical'}}}}}\n",
            "Torch is using cpu\n",
            "Pin memory set to true\n",
            "running torch_single_train\n"
          ],
          "name": "stdout"
        },
        {
          "output_type": "stream",
          "text": [
            "To copy construct from a tensor, it is recommended to use sourceTensor.clone().detach() or sourceTensor.clone().detach().requires_grad_(True), rather than torch.tensor(sourceTensor).\n",
            "Using a target size (torch.Size([1, 2, 1])) that is different to the input size (torch.Size([2, 2, 18])). This will likely lead to incorrect results due to broadcasting. Please ensure they have the same size.\n"
          ],
          "name": "stderr"
        },
        {
          "output_type": "display_data",
          "data": {
            "text/html": [
              "<br/>Waiting for W&B process to finish, PID 850<br/>Program failed with code 1.  Press ctrl-c to abort syncing."
            ],
            "text/plain": [
              "<IPython.core.display.HTML object>"
            ]
          },
          "metadata": {
            "tags": []
          }
        },
        {
          "output_type": "display_data",
          "data": {
            "application/vnd.jupyter.widget-view+json": {
              "model_id": "b63bad68c319438892138ff5d43e5795",
              "version_minor": 0,
              "version_major": 2
            },
            "text/plain": [
              "VBox(children=(Label(value=' 0.00MB of 0.01MB uploaded (0.00MB deduped)\\r'), FloatProgress(value=0.10621982391…"
            ]
          },
          "metadata": {
            "tags": []
          }
        },
        {
          "output_type": "display_data",
          "data": {
            "text/html": [
              "Find user logs for this run at: <code>/content/flow-forecast/wandb/run-20210126_085147-1rzscg9t/logs/debug.log</code>"
            ],
            "text/plain": [
              "<IPython.core.display.HTML object>"
            ]
          },
          "metadata": {
            "tags": []
          }
        },
        {
          "output_type": "display_data",
          "data": {
            "text/html": [
              "Find internal logs for this run at: <code>/content/flow-forecast/wandb/run-20210126_085147-1rzscg9t/logs/debug-internal.log</code>"
            ],
            "text/plain": [
              "<IPython.core.display.HTML object>"
            ]
          },
          "metadata": {
            "tags": []
          }
        },
        {
          "output_type": "display_data",
          "data": {
            "text/html": [
              "<h3>Run summary:</h3><br/><style>\n",
              "    table.wandb td:nth-child(1) { padding: 0 10px; text-align: right }\n",
              "    </style><table class=\"wandb\">\n",
              "</table>"
            ],
            "text/plain": [
              "<IPython.core.display.HTML object>"
            ]
          },
          "metadata": {
            "tags": []
          }
        },
        {
          "output_type": "display_data",
          "data": {
            "text/html": [
              "Synced 5 W&B file(s), 1 media file(s), 0 artifact file(s) and 0 other file(s)"
            ],
            "text/plain": [
              "<IPython.core.display.HTML object>"
            ]
          },
          "metadata": {
            "tags": []
          }
        },
        {
          "output_type": "display_data",
          "data": {
            "text/html": [
              "\n",
              "                    <br/>Synced <strong style=\"color:#cdcd00\">silver-sweep-2</strong>: <a href=\"https://wandb.ai/igodfried/covid_icml/runs/1rzscg9t\" target=\"_blank\">https://wandb.ai/igodfried/covid_icml/runs/1rzscg9t</a><br/>\n",
              "                "
            ],
            "text/plain": [
              "<IPython.core.display.HTML object>"
            ]
          },
          "metadata": {
            "tags": []
          }
        },
        {
          "output_type": "stream",
          "text": [
            "Run 1rzscg9t errored: ValueError('Error infinite or NaN loss detected. Try normalizing data or performing interpolation',)\n",
            "\u001b[34m\u001b[1mwandb\u001b[0m: \u001b[32m\u001b[41mERROR\u001b[0m Run 1rzscg9t errored: ValueError('Error infinite or NaN loss detected. Try normalizing data or performing interpolation',)\n",
            "\u001b[34m\u001b[1mwandb\u001b[0m: Agent Starting Run: 7sw202hw with config:\n",
            "\u001b[34m\u001b[1mwandb\u001b[0m: \tbatch_size: 2\n",
            "\u001b[34m\u001b[1mwandb\u001b[0m: \tdropout: 0.3\n",
            "\u001b[34m\u001b[1mwandb\u001b[0m: \tforecast_history: 5\n",
            "\u001b[34m\u001b[1mwandb\u001b[0m: \tforecast_length: 1\n",
            "\u001b[34m\u001b[1mwandb\u001b[0m: \tlr: 1e-05\n",
            "\u001b[34m\u001b[1mwandb\u001b[0m: \tn_embedding: 32\n",
            "\u001b[34m\u001b[1mwandb\u001b[0m: \tnum_layer: 10\n",
            "\u001b[34m\u001b[1mwandb\u001b[0m: \toptimizer: SGD\n",
            "\u001b[34m\u001b[1mwandb\u001b[0m: \u001b[33mWARNING\u001b[0m Ignored wandb.init() arg project when running a sweep\n"
          ],
          "name": "stderr"
        },
        {
          "output_type": "display_data",
          "data": {
            "text/html": [
              "\n",
              "                Tracking run with wandb version 0.10.15<br/>\n",
              "                Syncing run <strong style=\"color:#cdcd00\">stellar-sweep-3</strong> to <a href=\"https://wandb.ai\" target=\"_blank\">Weights & Biases</a> <a href=\"https://docs.wandb.com/integrations/jupyter.html\" target=\"_blank\">(Documentation)</a>.<br/>\n",
              "                Project page: <a href=\"https://wandb.ai/igodfried/covid_icml\" target=\"_blank\">https://wandb.ai/igodfried/covid_icml</a><br/>\n",
              "                Sweep page: <a href=\"https://wandb.ai/igodfried/covid_icml/sweeps/ttnyy89p\" target=\"_blank\">https://wandb.ai/igodfried/covid_icml/sweeps/ttnyy89p</a><br/>\n",
              "Run page: <a href=\"https://wandb.ai/igodfried/covid_icml/runs/7sw202hw\" target=\"_blank\">https://wandb.ai/igodfried/covid_icml/runs/7sw202hw</a><br/>\n",
              "                Run data is saved locally in <code>/content/flow-forecast/wandb/run-20210126_085155-7sw202hw</code><br/><br/>\n",
              "            "
            ],
            "text/plain": [
              "<IPython.core.display.HTML object>"
            ]
          },
          "metadata": {
            "tags": []
          }
        },
        {
          "output_type": "stream",
          "text": [
            "{'batch_size': 2, 'dropout': 0.3, 'forecast_history': 5, 'forecast_length': 1, 'lr': 1e-05, 'n_embedding': 32, 'num_layer': 10, 'optimizer': 'SGD'}\n",
            "interpolate should be below\n",
            "running feature fix code s\n",
            "Relevant cols are\n",
            "['cos_day_of_week', 'sin_day_of_week', 'cos_month', 'sin_month']\n",
            "Now loading/content/flow-forecast/miami_f.csv\n",
            "scaling now\n",
            "2\n",
            "Error nan values detected in data. Please run interpolate ffill or bfill on data\n",
            "interpolate should be below\n",
            "running feature fix code s\n",
            "Relevant cols are\n",
            "['cos_day_of_week', 'sin_day_of_week', 'cos_month', 'sin_month']\n",
            "Now loading/content/flow-forecast/miami_f.csv\n",
            "scaling now\n",
            "2\n",
            "interpolate should be below\n",
            "running feature fix code s\n",
            "Relevant cols are\n",
            "['cos_day_of_week', 'sin_day_of_week', 'cos_month', 'sin_month']\n",
            "Now loading/content/flow-forecast/miami_f.csv\n",
            "scaling now\n",
            "2\n",
            "Using Wandb config:\n",
            "{'batch_size': 2, 'dropout': 0.3, 'forecast_history': 5, 'forecast_length': 1, 'lr': 1e-05, 'n_embedding': 32, 'num_layer': 10, 'optimizer': 'SGD', 'model_name': 'DecoderTransformer', 'model_type': 'PyTorch', 'model_params': {'n_time_series': 18, 'n_head': 8, 'forecast_history': 5, 'n_embd': 32, 'num_layer': 10, 'q_len': 1, 'dropout': 0.3, 'forecast_length': 1, 'additional_params': {}}, 'dataset_params': {'class': 'default', 'num_workers': 5, 'pin_memory': True, 'training_path': '/content/flow-forecast/miami_f.csv', 'validation_path': '/content/flow-forecast/miami_f.csv', 'test_path': '/content/flow-forecast/miami_f.csv', 'batch_size': 2, 'forecast_history': 5, 'forecast_length': 1, 'scaler': 'StandardScaler', 'train_start': 0, 'train_end': 170, 'valid_start': 170, 'valid_end': 310, 'sort_column': 'date', 'test_start': 170, 'test_end': 310, 'target_col': ['rolling_7_cases', 'rolling_7_deaths'], 'relevant_cols': ['rolling_7_cases', 'rolling_7_deaths', 'mobility_retail_recreation', 'mobility_grocery_pharmacy', 'mobility_parks', 'mobility_transit_stations', 'mobility_workplaces', 'mobility_residential', 'avg_temperature', 'min_temperature', 'max_temperature', 'relative_humidity', 'specific_humidity', 'pressure'], 'feature_param': {'datetime_params': {'day_of_week': 'cyclical', 'month': 'cyclical'}}, 'interpolate': False}, 'training_params': {'criterion': 'MASELoss', 'optimizer': 'SGD', 'criterion_params': {'baseline_method': 'mean'}, 'optim_params': {'lr': 1e-05}, 'epochs': 10, 'batch_size': 2}, 'early_stopping': {'patience': 3}, 'GCS': True, 'sweep': True, 'wandb': False, 'forward_params': {}, 'metrics': ['MSE', 'DilateLoss'], 'inference_params': {'datetime_start': '2020-12-14', 'hours_to_forecast': 18, 'num_prediction_samples': 20, 'test_csv_path': '/content/flow-forecast/miami_f.csv', 'decoder_params': {'decoder_function': 'simple_decode', 'unsqueeze_dim': 1}, 'dataset_params': {'file_path': '/content/flow-forecast/miami_f.csv', 'sort_column': 'date', 'scaling': 'StandardScaler', 'forecast_history': 5, 'forecast_length': 1, 'relevant_cols': ['rolling_7_cases', 'rolling_7_deaths', 'mobility_retail_recreation', 'mobility_grocery_pharmacy', 'mobility_parks', 'mobility_transit_stations', 'mobility_workplaces', 'mobility_residential', 'avg_temperature', 'min_temperature', 'max_temperature', 'relative_humidity', 'specific_humidity', 'pressure'], 'target_col': ['rolling_7_cases', 'rolling_7_deaths'], 'interpolate_param': False, 'feature_params': {'datetime_params': {'day_of_week': 'cyclical', 'month': 'cyclical'}}}}}\n",
            "Torch is using cpu\n",
            "Pin memory set to true\n",
            "running torch_single_train\n"
          ],
          "name": "stdout"
        },
        {
          "output_type": "stream",
          "text": [
            "To copy construct from a tensor, it is recommended to use sourceTensor.clone().detach() or sourceTensor.clone().detach().requires_grad_(True), rather than torch.tensor(sourceTensor).\n",
            "Using a target size (torch.Size([1, 2, 1])) that is different to the input size (torch.Size([2, 2, 18])). This will likely lead to incorrect results due to broadcasting. Please ensure they have the same size.\n"
          ],
          "name": "stderr"
        },
        {
          "output_type": "display_data",
          "data": {
            "text/html": [
              "<br/>Waiting for W&B process to finish, PID 906<br/>Program failed with code 1.  Press ctrl-c to abort syncing."
            ],
            "text/plain": [
              "<IPython.core.display.HTML object>"
            ]
          },
          "metadata": {
            "tags": []
          }
        },
        {
          "output_type": "display_data",
          "data": {
            "application/vnd.jupyter.widget-view+json": {
              "model_id": "8ab2aa58adab4b94b732724d87f4e8dc",
              "version_minor": 0,
              "version_major": 2
            },
            "text/plain": [
              "VBox(children=(Label(value=' 0.01MB of 0.01MB uploaded (0.00MB deduped)\\r'), FloatProgress(value=1.0, max=1.0)…"
            ]
          },
          "metadata": {
            "tags": []
          }
        },
        {
          "output_type": "display_data",
          "data": {
            "text/html": [
              "Find user logs for this run at: <code>/content/flow-forecast/wandb/run-20210126_085155-7sw202hw/logs/debug.log</code>"
            ],
            "text/plain": [
              "<IPython.core.display.HTML object>"
            ]
          },
          "metadata": {
            "tags": []
          }
        },
        {
          "output_type": "display_data",
          "data": {
            "text/html": [
              "Find internal logs for this run at: <code>/content/flow-forecast/wandb/run-20210126_085155-7sw202hw/logs/debug-internal.log</code>"
            ],
            "text/plain": [
              "<IPython.core.display.HTML object>"
            ]
          },
          "metadata": {
            "tags": []
          }
        },
        {
          "output_type": "display_data",
          "data": {
            "text/html": [
              "<h3>Run summary:</h3><br/><style>\n",
              "    table.wandb td:nth-child(1) { padding: 0 10px; text-align: right }\n",
              "    </style><table class=\"wandb\">\n",
              "</table>"
            ],
            "text/plain": [
              "<IPython.core.display.HTML object>"
            ]
          },
          "metadata": {
            "tags": []
          }
        },
        {
          "output_type": "display_data",
          "data": {
            "text/html": [
              "Synced 5 W&B file(s), 1 media file(s), 0 artifact file(s) and 0 other file(s)"
            ],
            "text/plain": [
              "<IPython.core.display.HTML object>"
            ]
          },
          "metadata": {
            "tags": []
          }
        },
        {
          "output_type": "display_data",
          "data": {
            "text/html": [
              "\n",
              "                    <br/>Synced <strong style=\"color:#cdcd00\">stellar-sweep-3</strong>: <a href=\"https://wandb.ai/igodfried/covid_icml/runs/7sw202hw\" target=\"_blank\">https://wandb.ai/igodfried/covid_icml/runs/7sw202hw</a><br/>\n",
              "                "
            ],
            "text/plain": [
              "<IPython.core.display.HTML object>"
            ]
          },
          "metadata": {
            "tags": []
          }
        },
        {
          "output_type": "stream",
          "text": [
            "Run 7sw202hw errored: ValueError('Error infinite or NaN loss detected. Try normalizing data or performing interpolation',)\n",
            "\u001b[34m\u001b[1mwandb\u001b[0m: \u001b[32m\u001b[41mERROR\u001b[0m Run 7sw202hw errored: ValueError('Error infinite or NaN loss detected. Try normalizing data or performing interpolation',)\n",
            "Detected 3 failed runs in the first 60 seconds, killing sweep.\n",
            "\u001b[34m\u001b[1mwandb\u001b[0m: \u001b[32m\u001b[41mERROR\u001b[0m Detected 3 failed runs in the first 60 seconds, killing sweep.\n",
            "\u001b[34m\u001b[1mwandb\u001b[0m: To disable this check set WANDB_AGENT_DISABLE_FLAPPING=true\n"
          ],
          "name": "stderr"
        }
      ]
    },
    {
      "cell_type": "code",
      "metadata": {
        "id": "7kp5yR9QnohG"
      },
      "source": [
        ""
      ],
      "execution_count": null,
      "outputs": []
    },
    {
      "cell_type": "code",
      "metadata": {
        "id": "3fXv3uSIs3wS"
      },
      "source": [
        ""
      ],
      "execution_count": null,
      "outputs": []
    }
  ]
}