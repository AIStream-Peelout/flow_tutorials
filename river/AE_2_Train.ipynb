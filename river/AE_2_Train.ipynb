{
  "nbformat": 4,
  "nbformat_minor": 0,
  "metadata": {
    "colab": {
      "name": "Debugging Playground.ipynb",
      "provenance": [],
      "collapsed_sections": []
    },
    "kernelspec": {
      "display_name": "Python 3",
      "name": "python3"
    },
    "language_info": {
      "name": "python"
    },
    "widgets": {
      "application/vnd.jupyter.widget-state+json": {
        "207b029477ad4eec9d757868a8322c69": {
          "model_module": "@jupyter-widgets/controls",
          "model_name": "VBoxModel",
          "model_module_version": "1.5.0",
          "state": {
            "_view_name": "VBoxView",
            "_dom_classes": [],
            "_model_name": "VBoxModel",
            "_view_module": "@jupyter-widgets/controls",
            "_model_module_version": "1.5.0",
            "_view_count": null,
            "_view_module_version": "1.5.0",
            "box_style": "",
            "layout": "IPY_MODEL_a39684621e2e43709e5c88e927967bd9",
            "_model_module": "@jupyter-widgets/controls",
            "children": [
              "IPY_MODEL_88dfb654d05c4c94bbe64edd548b7601",
              "IPY_MODEL_6e31f1199c35489a9c0f94bfdf67a860"
            ]
          }
        },
        "a39684621e2e43709e5c88e927967bd9": {
          "model_module": "@jupyter-widgets/base",
          "model_name": "LayoutModel",
          "model_module_version": "1.2.0",
          "state": {
            "_view_name": "LayoutView",
            "grid_template_rows": null,
            "right": null,
            "justify_content": null,
            "_view_module": "@jupyter-widgets/base",
            "overflow": null,
            "_model_module_version": "1.2.0",
            "_view_count": null,
            "flex_flow": null,
            "width": null,
            "min_width": null,
            "border": null,
            "align_items": null,
            "bottom": null,
            "_model_module": "@jupyter-widgets/base",
            "top": null,
            "grid_column": null,
            "overflow_y": null,
            "overflow_x": null,
            "grid_auto_flow": null,
            "grid_area": null,
            "grid_template_columns": null,
            "flex": null,
            "_model_name": "LayoutModel",
            "justify_items": null,
            "grid_row": null,
            "max_height": null,
            "align_content": null,
            "visibility": null,
            "align_self": null,
            "height": null,
            "min_height": null,
            "padding": null,
            "grid_auto_rows": null,
            "grid_gap": null,
            "max_width": null,
            "order": null,
            "_view_module_version": "1.2.0",
            "grid_template_areas": null,
            "object_position": null,
            "object_fit": null,
            "grid_auto_columns": null,
            "margin": null,
            "display": null,
            "left": null
          }
        },
        "88dfb654d05c4c94bbe64edd548b7601": {
          "model_module": "@jupyter-widgets/controls",
          "model_name": "LabelModel",
          "model_module_version": "1.5.0",
          "state": {
            "_view_name": "LabelView",
            "style": "IPY_MODEL_ab7bcafd371b44978ab8f132736786dd",
            "_dom_classes": [],
            "description": "",
            "_model_name": "LabelModel",
            "placeholder": "​",
            "_view_module": "@jupyter-widgets/controls",
            "_model_module_version": "1.5.0",
            "value": " 0.17MB of 0.17MB uploaded (0.00MB deduped)\r",
            "_view_count": null,
            "_view_module_version": "1.5.0",
            "description_tooltip": null,
            "_model_module": "@jupyter-widgets/controls",
            "layout": "IPY_MODEL_44b89fd99072471a86f77b44f8e74734"
          }
        },
        "6e31f1199c35489a9c0f94bfdf67a860": {
          "model_module": "@jupyter-widgets/controls",
          "model_name": "FloatProgressModel",
          "model_module_version": "1.5.0",
          "state": {
            "_view_name": "ProgressView",
            "style": "IPY_MODEL_30d1180e5ed64419a3ccd956d727f233",
            "_dom_classes": [],
            "description": "",
            "_model_name": "FloatProgressModel",
            "bar_style": "",
            "max": 1,
            "_view_module": "@jupyter-widgets/controls",
            "_model_module_version": "1.5.0",
            "value": 1,
            "_view_count": null,
            "_view_module_version": "1.5.0",
            "orientation": "horizontal",
            "min": 0,
            "description_tooltip": null,
            "_model_module": "@jupyter-widgets/controls",
            "layout": "IPY_MODEL_c43c973b5def464db89ab5ec4a53fc02"
          }
        },
        "ab7bcafd371b44978ab8f132736786dd": {
          "model_module": "@jupyter-widgets/controls",
          "model_name": "DescriptionStyleModel",
          "model_module_version": "1.5.0",
          "state": {
            "_view_name": "StyleView",
            "_model_name": "DescriptionStyleModel",
            "description_width": "",
            "_view_module": "@jupyter-widgets/base",
            "_model_module_version": "1.5.0",
            "_view_count": null,
            "_view_module_version": "1.2.0",
            "_model_module": "@jupyter-widgets/controls"
          }
        },
        "44b89fd99072471a86f77b44f8e74734": {
          "model_module": "@jupyter-widgets/base",
          "model_name": "LayoutModel",
          "model_module_version": "1.2.0",
          "state": {
            "_view_name": "LayoutView",
            "grid_template_rows": null,
            "right": null,
            "justify_content": null,
            "_view_module": "@jupyter-widgets/base",
            "overflow": null,
            "_model_module_version": "1.2.0",
            "_view_count": null,
            "flex_flow": null,
            "width": null,
            "min_width": null,
            "border": null,
            "align_items": null,
            "bottom": null,
            "_model_module": "@jupyter-widgets/base",
            "top": null,
            "grid_column": null,
            "overflow_y": null,
            "overflow_x": null,
            "grid_auto_flow": null,
            "grid_area": null,
            "grid_template_columns": null,
            "flex": null,
            "_model_name": "LayoutModel",
            "justify_items": null,
            "grid_row": null,
            "max_height": null,
            "align_content": null,
            "visibility": null,
            "align_self": null,
            "height": null,
            "min_height": null,
            "padding": null,
            "grid_auto_rows": null,
            "grid_gap": null,
            "max_width": null,
            "order": null,
            "_view_module_version": "1.2.0",
            "grid_template_areas": null,
            "object_position": null,
            "object_fit": null,
            "grid_auto_columns": null,
            "margin": null,
            "display": null,
            "left": null
          }
        },
        "30d1180e5ed64419a3ccd956d727f233": {
          "model_module": "@jupyter-widgets/controls",
          "model_name": "ProgressStyleModel",
          "model_module_version": "1.5.0",
          "state": {
            "_view_name": "StyleView",
            "_model_name": "ProgressStyleModel",
            "description_width": "",
            "_view_module": "@jupyter-widgets/base",
            "_model_module_version": "1.5.0",
            "_view_count": null,
            "_view_module_version": "1.2.0",
            "bar_color": null,
            "_model_module": "@jupyter-widgets/controls"
          }
        },
        "c43c973b5def464db89ab5ec4a53fc02": {
          "model_module": "@jupyter-widgets/base",
          "model_name": "LayoutModel",
          "model_module_version": "1.2.0",
          "state": {
            "_view_name": "LayoutView",
            "grid_template_rows": null,
            "right": null,
            "justify_content": null,
            "_view_module": "@jupyter-widgets/base",
            "overflow": null,
            "_model_module_version": "1.2.0",
            "_view_count": null,
            "flex_flow": null,
            "width": null,
            "min_width": null,
            "border": null,
            "align_items": null,
            "bottom": null,
            "_model_module": "@jupyter-widgets/base",
            "top": null,
            "grid_column": null,
            "overflow_y": null,
            "overflow_x": null,
            "grid_auto_flow": null,
            "grid_area": null,
            "grid_template_columns": null,
            "flex": null,
            "_model_name": "LayoutModel",
            "justify_items": null,
            "grid_row": null,
            "max_height": null,
            "align_content": null,
            "visibility": null,
            "align_self": null,
            "height": null,
            "min_height": null,
            "padding": null,
            "grid_auto_rows": null,
            "grid_gap": null,
            "max_width": null,
            "order": null,
            "_view_module_version": "1.2.0",
            "grid_template_areas": null,
            "object_position": null,
            "object_fit": null,
            "grid_auto_columns": null,
            "margin": null,
            "display": null,
            "left": null
          }
        },
        "dd320068806a462ea1cc890dd72f1390": {
          "model_module": "@jupyter-widgets/controls",
          "model_name": "VBoxModel",
          "model_module_version": "1.5.0",
          "state": {
            "_view_name": "VBoxView",
            "_dom_classes": [],
            "_model_name": "VBoxModel",
            "_view_module": "@jupyter-widgets/controls",
            "_model_module_version": "1.5.0",
            "_view_count": null,
            "_view_module_version": "1.5.0",
            "box_style": "",
            "layout": "IPY_MODEL_0326cd48cd9d481dab7d32ac7f00892b",
            "_model_module": "@jupyter-widgets/controls",
            "children": [
              "IPY_MODEL_07677844eaec47a789f1c38fcb540fa8",
              "IPY_MODEL_45b13f04d0354f9ab88ecf8818ba8479"
            ]
          }
        },
        "0326cd48cd9d481dab7d32ac7f00892b": {
          "model_module": "@jupyter-widgets/base",
          "model_name": "LayoutModel",
          "model_module_version": "1.2.0",
          "state": {
            "_view_name": "LayoutView",
            "grid_template_rows": null,
            "right": null,
            "justify_content": null,
            "_view_module": "@jupyter-widgets/base",
            "overflow": null,
            "_model_module_version": "1.2.0",
            "_view_count": null,
            "flex_flow": null,
            "width": null,
            "min_width": null,
            "border": null,
            "align_items": null,
            "bottom": null,
            "_model_module": "@jupyter-widgets/base",
            "top": null,
            "grid_column": null,
            "overflow_y": null,
            "overflow_x": null,
            "grid_auto_flow": null,
            "grid_area": null,
            "grid_template_columns": null,
            "flex": null,
            "_model_name": "LayoutModel",
            "justify_items": null,
            "grid_row": null,
            "max_height": null,
            "align_content": null,
            "visibility": null,
            "align_self": null,
            "height": null,
            "min_height": null,
            "padding": null,
            "grid_auto_rows": null,
            "grid_gap": null,
            "max_width": null,
            "order": null,
            "_view_module_version": "1.2.0",
            "grid_template_areas": null,
            "object_position": null,
            "object_fit": null,
            "grid_auto_columns": null,
            "margin": null,
            "display": null,
            "left": null
          }
        },
        "07677844eaec47a789f1c38fcb540fa8": {
          "model_module": "@jupyter-widgets/controls",
          "model_name": "LabelModel",
          "model_module_version": "1.5.0",
          "state": {
            "_view_name": "LabelView",
            "style": "IPY_MODEL_15bfe108e12f49cda129d3685e3be912",
            "_dom_classes": [],
            "description": "",
            "_model_name": "LabelModel",
            "placeholder": "​",
            "_view_module": "@jupyter-widgets/controls",
            "_model_module_version": "1.5.0",
            "value": " 0.01MB of 0.01MB uploaded (0.00MB deduped)\r",
            "_view_count": null,
            "_view_module_version": "1.5.0",
            "description_tooltip": null,
            "_model_module": "@jupyter-widgets/controls",
            "layout": "IPY_MODEL_c2630b9661eb421ca273b0f7bf28d0d1"
          }
        },
        "45b13f04d0354f9ab88ecf8818ba8479": {
          "model_module": "@jupyter-widgets/controls",
          "model_name": "FloatProgressModel",
          "model_module_version": "1.5.0",
          "state": {
            "_view_name": "ProgressView",
            "style": "IPY_MODEL_74d4ce5d502d4dce83c9d264927aacaa",
            "_dom_classes": [],
            "description": "",
            "_model_name": "FloatProgressModel",
            "bar_style": "",
            "max": 1,
            "_view_module": "@jupyter-widgets/controls",
            "_model_module_version": "1.5.0",
            "value": 1,
            "_view_count": null,
            "_view_module_version": "1.5.0",
            "orientation": "horizontal",
            "min": 0,
            "description_tooltip": null,
            "_model_module": "@jupyter-widgets/controls",
            "layout": "IPY_MODEL_0842b7efd00b49c2aacff5d66e728f07"
          }
        },
        "15bfe108e12f49cda129d3685e3be912": {
          "model_module": "@jupyter-widgets/controls",
          "model_name": "DescriptionStyleModel",
          "model_module_version": "1.5.0",
          "state": {
            "_view_name": "StyleView",
            "_model_name": "DescriptionStyleModel",
            "description_width": "",
            "_view_module": "@jupyter-widgets/base",
            "_model_module_version": "1.5.0",
            "_view_count": null,
            "_view_module_version": "1.2.0",
            "_model_module": "@jupyter-widgets/controls"
          }
        },
        "c2630b9661eb421ca273b0f7bf28d0d1": {
          "model_module": "@jupyter-widgets/base",
          "model_name": "LayoutModel",
          "model_module_version": "1.2.0",
          "state": {
            "_view_name": "LayoutView",
            "grid_template_rows": null,
            "right": null,
            "justify_content": null,
            "_view_module": "@jupyter-widgets/base",
            "overflow": null,
            "_model_module_version": "1.2.0",
            "_view_count": null,
            "flex_flow": null,
            "width": null,
            "min_width": null,
            "border": null,
            "align_items": null,
            "bottom": null,
            "_model_module": "@jupyter-widgets/base",
            "top": null,
            "grid_column": null,
            "overflow_y": null,
            "overflow_x": null,
            "grid_auto_flow": null,
            "grid_area": null,
            "grid_template_columns": null,
            "flex": null,
            "_model_name": "LayoutModel",
            "justify_items": null,
            "grid_row": null,
            "max_height": null,
            "align_content": null,
            "visibility": null,
            "align_self": null,
            "height": null,
            "min_height": null,
            "padding": null,
            "grid_auto_rows": null,
            "grid_gap": null,
            "max_width": null,
            "order": null,
            "_view_module_version": "1.2.0",
            "grid_template_areas": null,
            "object_position": null,
            "object_fit": null,
            "grid_auto_columns": null,
            "margin": null,
            "display": null,
            "left": null
          }
        },
        "74d4ce5d502d4dce83c9d264927aacaa": {
          "model_module": "@jupyter-widgets/controls",
          "model_name": "ProgressStyleModel",
          "model_module_version": "1.5.0",
          "state": {
            "_view_name": "StyleView",
            "_model_name": "ProgressStyleModel",
            "description_width": "",
            "_view_module": "@jupyter-widgets/base",
            "_model_module_version": "1.5.0",
            "_view_count": null,
            "_view_module_version": "1.2.0",
            "bar_color": null,
            "_model_module": "@jupyter-widgets/controls"
          }
        },
        "0842b7efd00b49c2aacff5d66e728f07": {
          "model_module": "@jupyter-widgets/base",
          "model_name": "LayoutModel",
          "model_module_version": "1.2.0",
          "state": {
            "_view_name": "LayoutView",
            "grid_template_rows": null,
            "right": null,
            "justify_content": null,
            "_view_module": "@jupyter-widgets/base",
            "overflow": null,
            "_model_module_version": "1.2.0",
            "_view_count": null,
            "flex_flow": null,
            "width": null,
            "min_width": null,
            "border": null,
            "align_items": null,
            "bottom": null,
            "_model_module": "@jupyter-widgets/base",
            "top": null,
            "grid_column": null,
            "overflow_y": null,
            "overflow_x": null,
            "grid_auto_flow": null,
            "grid_area": null,
            "grid_template_columns": null,
            "flex": null,
            "_model_name": "LayoutModel",
            "justify_items": null,
            "grid_row": null,
            "max_height": null,
            "align_content": null,
            "visibility": null,
            "align_self": null,
            "height": null,
            "min_height": null,
            "padding": null,
            "grid_auto_rows": null,
            "grid_gap": null,
            "max_width": null,
            "order": null,
            "_view_module_version": "1.2.0",
            "grid_template_areas": null,
            "object_position": null,
            "object_fit": null,
            "grid_auto_columns": null,
            "margin": null,
            "display": null,
            "left": null
          }
        },
        "6aaf19f8807d4047a9e5bcf94906fb52": {
          "model_module": "@jupyter-widgets/controls",
          "model_name": "VBoxModel",
          "model_module_version": "1.5.0",
          "state": {
            "_view_name": "VBoxView",
            "_dom_classes": [],
            "_model_name": "VBoxModel",
            "_view_module": "@jupyter-widgets/controls",
            "_model_module_version": "1.5.0",
            "_view_count": null,
            "_view_module_version": "1.5.0",
            "box_style": "",
            "layout": "IPY_MODEL_ae09a0291997462ca39b90c64b820e22",
            "_model_module": "@jupyter-widgets/controls",
            "children": [
              "IPY_MODEL_542bcf4a8b4d4a58940cb861ae5824fb",
              "IPY_MODEL_f59c7a657a7346d1a981bc8635696e7c"
            ]
          }
        },
        "ae09a0291997462ca39b90c64b820e22": {
          "model_module": "@jupyter-widgets/base",
          "model_name": "LayoutModel",
          "model_module_version": "1.2.0",
          "state": {
            "_view_name": "LayoutView",
            "grid_template_rows": null,
            "right": null,
            "justify_content": null,
            "_view_module": "@jupyter-widgets/base",
            "overflow": null,
            "_model_module_version": "1.2.0",
            "_view_count": null,
            "flex_flow": null,
            "width": null,
            "min_width": null,
            "border": null,
            "align_items": null,
            "bottom": null,
            "_model_module": "@jupyter-widgets/base",
            "top": null,
            "grid_column": null,
            "overflow_y": null,
            "overflow_x": null,
            "grid_auto_flow": null,
            "grid_area": null,
            "grid_template_columns": null,
            "flex": null,
            "_model_name": "LayoutModel",
            "justify_items": null,
            "grid_row": null,
            "max_height": null,
            "align_content": null,
            "visibility": null,
            "align_self": null,
            "height": null,
            "min_height": null,
            "padding": null,
            "grid_auto_rows": null,
            "grid_gap": null,
            "max_width": null,
            "order": null,
            "_view_module_version": "1.2.0",
            "grid_template_areas": null,
            "object_position": null,
            "object_fit": null,
            "grid_auto_columns": null,
            "margin": null,
            "display": null,
            "left": null
          }
        },
        "542bcf4a8b4d4a58940cb861ae5824fb": {
          "model_module": "@jupyter-widgets/controls",
          "model_name": "LabelModel",
          "model_module_version": "1.5.0",
          "state": {
            "_view_name": "LabelView",
            "style": "IPY_MODEL_ec93dd6cdb764b69a56cb75e3699d8d1",
            "_dom_classes": [],
            "description": "",
            "_model_name": "LabelModel",
            "placeholder": "​",
            "_view_module": "@jupyter-widgets/controls",
            "_model_module_version": "1.5.0",
            "value": " 0.01MB of 0.01MB uploaded (0.00MB deduped)\r",
            "_view_count": null,
            "_view_module_version": "1.5.0",
            "description_tooltip": null,
            "_model_module": "@jupyter-widgets/controls",
            "layout": "IPY_MODEL_9616d8f6957646d182787566facbe869"
          }
        },
        "f59c7a657a7346d1a981bc8635696e7c": {
          "model_module": "@jupyter-widgets/controls",
          "model_name": "FloatProgressModel",
          "model_module_version": "1.5.0",
          "state": {
            "_view_name": "ProgressView",
            "style": "IPY_MODEL_c653f5a55475456bbf4efed243fd33a3",
            "_dom_classes": [],
            "description": "",
            "_model_name": "FloatProgressModel",
            "bar_style": "",
            "max": 1,
            "_view_module": "@jupyter-widgets/controls",
            "_model_module_version": "1.5.0",
            "value": 1,
            "_view_count": null,
            "_view_module_version": "1.5.0",
            "orientation": "horizontal",
            "min": 0,
            "description_tooltip": null,
            "_model_module": "@jupyter-widgets/controls",
            "layout": "IPY_MODEL_54b9ae47607240f6b00bd26aaaaf3b0f"
          }
        },
        "ec93dd6cdb764b69a56cb75e3699d8d1": {
          "model_module": "@jupyter-widgets/controls",
          "model_name": "DescriptionStyleModel",
          "model_module_version": "1.5.0",
          "state": {
            "_view_name": "StyleView",
            "_model_name": "DescriptionStyleModel",
            "description_width": "",
            "_view_module": "@jupyter-widgets/base",
            "_model_module_version": "1.5.0",
            "_view_count": null,
            "_view_module_version": "1.2.0",
            "_model_module": "@jupyter-widgets/controls"
          }
        },
        "9616d8f6957646d182787566facbe869": {
          "model_module": "@jupyter-widgets/base",
          "model_name": "LayoutModel",
          "model_module_version": "1.2.0",
          "state": {
            "_view_name": "LayoutView",
            "grid_template_rows": null,
            "right": null,
            "justify_content": null,
            "_view_module": "@jupyter-widgets/base",
            "overflow": null,
            "_model_module_version": "1.2.0",
            "_view_count": null,
            "flex_flow": null,
            "width": null,
            "min_width": null,
            "border": null,
            "align_items": null,
            "bottom": null,
            "_model_module": "@jupyter-widgets/base",
            "top": null,
            "grid_column": null,
            "overflow_y": null,
            "overflow_x": null,
            "grid_auto_flow": null,
            "grid_area": null,
            "grid_template_columns": null,
            "flex": null,
            "_model_name": "LayoutModel",
            "justify_items": null,
            "grid_row": null,
            "max_height": null,
            "align_content": null,
            "visibility": null,
            "align_self": null,
            "height": null,
            "min_height": null,
            "padding": null,
            "grid_auto_rows": null,
            "grid_gap": null,
            "max_width": null,
            "order": null,
            "_view_module_version": "1.2.0",
            "grid_template_areas": null,
            "object_position": null,
            "object_fit": null,
            "grid_auto_columns": null,
            "margin": null,
            "display": null,
            "left": null
          }
        },
        "c653f5a55475456bbf4efed243fd33a3": {
          "model_module": "@jupyter-widgets/controls",
          "model_name": "ProgressStyleModel",
          "model_module_version": "1.5.0",
          "state": {
            "_view_name": "StyleView",
            "_model_name": "ProgressStyleModel",
            "description_width": "",
            "_view_module": "@jupyter-widgets/base",
            "_model_module_version": "1.5.0",
            "_view_count": null,
            "_view_module_version": "1.2.0",
            "bar_color": null,
            "_model_module": "@jupyter-widgets/controls"
          }
        },
        "54b9ae47607240f6b00bd26aaaaf3b0f": {
          "model_module": "@jupyter-widgets/base",
          "model_name": "LayoutModel",
          "model_module_version": "1.2.0",
          "state": {
            "_view_name": "LayoutView",
            "grid_template_rows": null,
            "right": null,
            "justify_content": null,
            "_view_module": "@jupyter-widgets/base",
            "overflow": null,
            "_model_module_version": "1.2.0",
            "_view_count": null,
            "flex_flow": null,
            "width": null,
            "min_width": null,
            "border": null,
            "align_items": null,
            "bottom": null,
            "_model_module": "@jupyter-widgets/base",
            "top": null,
            "grid_column": null,
            "overflow_y": null,
            "overflow_x": null,
            "grid_auto_flow": null,
            "grid_area": null,
            "grid_template_columns": null,
            "flex": null,
            "_model_name": "LayoutModel",
            "justify_items": null,
            "grid_row": null,
            "max_height": null,
            "align_content": null,
            "visibility": null,
            "align_self": null,
            "height": null,
            "min_height": null,
            "padding": null,
            "grid_auto_rows": null,
            "grid_gap": null,
            "max_width": null,
            "order": null,
            "_view_module_version": "1.2.0",
            "grid_template_areas": null,
            "object_position": null,
            "object_fit": null,
            "grid_auto_columns": null,
            "margin": null,
            "display": null,
            "left": null
          }
        }
      }
    }
  },
  "cells": [
    {
      "cell_type": "code",
      "metadata": {
        "colab": {
          "background_save": true,
          "base_uri": "https://localhost:8080/"
        },
        "id": "3s6TGHAPCgQN",
        "outputId": "5ec6bc47-172f-4402-eb2f-6ff29c378c7d"
      },
      "source": [
        "from google.colab import auth\n",
        "from datetime import datetime\n",
        "import os\n",
        "auth.authenticate_user()\n",
        "!git clone https://github.com/AIStream-Peelout/flow-forecast.git -b frozen_lay"
      ],
      "execution_count": null,
      "outputs": [
        {
          "name": "stdout",
          "output_type": "stream",
          "text": [
            "Cloning into 'flow-forecast'...\n",
            "remote: Enumerating objects: 16787, done.\u001b[K\n",
            "remote: Counting objects: 100% (3644/3644), done.\u001b[K\n",
            "remote: Compressing objects: 100% (1378/1378), done.\u001b[K\n",
            "remote: Total 16787 (delta 2561), reused 3240 (delta 2245), pack-reused 13143\u001b[K\n",
            "Receiving objects: 100% (16787/16787), 4.49 MiB | 15.79 MiB/s, done.\n",
            "Resolving deltas: 100% (12112/12112), done.\n"
          ]
        }
      ]
    },
    {
      "cell_type": "code",
      "metadata": {
        "colab": {
          "background_save": true
        },
        "id": "K_n6vWA4ClsD"
      },
      "source": [
        "import os\n",
        "os.chdir('flow-forecast')\n",
        "!pip install shortuuid==1.0.1\n",
        "!pip install -r  requirements.txt\n",
        "!python setup.py develop\n",
        "!mkdir data"
      ],
      "execution_count": null,
      "outputs": []
    },
    {
      "cell_type": "code",
      "metadata": {
        "colab": {
          "background_save": true
        },
        "id": "T_jG_XZWCsyT",
        "outputId": "3e776a5e-33b0-4308-dc96-01ced3a16080"
      },
      "source": [
        "!gsutil cp gs://coronaviruspublicdata/experiments/10_November_202102_15PM_model.pth .\n",
        "!gsutil cp gs://coronaviruspublicdata/experiments/10_November_202102_15PM.json ."
      ],
      "execution_count": null,
      "outputs": [
        {
          "name": "stdout",
          "output_type": "stream",
          "text": [
            "Copying gs://coronaviruspublicdata/experiments/10_November_202102_15PM_model.pth...\n",
            "/ [1 files][  1.1 MiB/  1.1 MiB]                                                \n",
            "Operation completed over 1 objects/1.1 MiB.                                      \n",
            "Copying gs://coronaviruspublicdata/experiments/10_November_202102_15PM.json...\n",
            "/ [1 files][  2.1 KiB/  2.1 KiB]                                                \n",
            "Operation completed over 1 objects/2.1 KiB.                                      \n"
          ]
        }
      ]
    },
    {
      "cell_type": "code",
      "metadata": {
        "id": "OuzOhTXrDnSz"
      },
      "source": [
        "from flood_forecast.deployment.inference import InferenceMode"
      ],
      "execution_count": null,
      "outputs": []
    },
    {
      "cell_type": "code",
      "metadata": {
        "colab": {
          "background_save": true
        },
        "id": "yAp7Lju0EJLo",
        "outputId": "87fc162e-5276-473b-ebb5-3040e6ce765e"
      },
      "source": [
        "!gsutil cp gs://aistream-datasets/flowdb/09405500AZC_flow.csv ."
      ],
      "execution_count": null,
      "outputs": [
        {
          "name": "stdout",
          "output_type": "stream",
          "text": [
            "Copying gs://aistream-datasets/flowdb/09405500AZC_flow.csv...\n",
            "/ [1 files][ 19.6 MiB/ 19.6 MiB]                                                \n",
            "Operation completed over 1 objects/19.6 MiB.                                     \n"
          ]
        }
      ]
    },
    {
      "cell_type": "code",
      "metadata": {
        "colab": {
          "background_save": true
        },
        "id": "ASZ0R5N7DqG7"
      },
      "source": [
        "import json\n",
        "with open(\"/content/flow-forecast/10_November_202102_15PM.json\") as f1:\n",
        "  data = json.load(f1)\n",
        "# a = InferenceMode(5, 20, data, \"09405500AZC_flow.csv\", \"/content/flow-forecast/09_November_202105_59PM_model.pth\","
      ],
      "execution_count": null,
      "outputs": []
    },
    {
      "cell_type": "code",
      "metadata": {
        "id": "0gpJ1RtIEPv2"
      },
      "source": [
        "from flood_forecast.time_model import PyTorchForecast"
      ],
      "execution_count": null,
      "outputs": []
    },
    {
      "cell_type": "code",
      "metadata": {
        "id": "tbUt9ddtEX1O"
      },
      "source": [
        "data[\"weight_path\"] = \"/content/flow-forecast/09_November_202105_59PM_model.pth\"\n",
        "data[\"GCS\"] = False\n",
        "\n",
        "data[\"weight_path\"] = \"/content/flow-forecast/10_November_202102_15PM_model.pth\"\n",
        "data[\"weight_path_add\"] = {\n",
        "        \"excluded_layers\": [\"output_dim_layer.weight\", \"output_dim_layer.bias\", \"out_length_lay.weight\", \"out_length_lay.bias\" ],\n",
        "        \"frozen_layers\": [\"dense_shape\", \"pe\", \"transformer_enc\", \"squashed\", \"unsquashed\"]\n",
        "    },\n",
        "\n",
        "a = PyTorchForecast(\"CustomTransformerDecoder\", \"09405500AZC_flow.csv\", \"09405500AZC_flow.csv\", \"09405500AZC_flow.csv\", data)"
      ],
      "execution_count": null,
      "outputs": []
    },
    {
      "cell_type": "code",
      "metadata": {
        "id": "aCsszqKsEtfv"
      },
      "source": [
        "import torch\n",
        "a.model.eval()\n",
        "a.model(torch.rand(2, 10, 4))"
      ],
      "execution_count": null,
      "outputs": []
    },
    {
      "cell_type": "code",
      "metadata": {
        "id": "XckuYTevGBhR"
      },
      "source": [
        "with open(\"saved_param.json\", \"w+\") as y:\n",
        "  json.dump(data, y)"
      ],
      "execution_count": null,
      "outputs": []
    },
    {
      "cell_type": "code",
      "metadata": {
        "colab": {
          "base_uri": "https://localhost:8080/",
          "height": 177,
          "referenced_widgets": [
            "207b029477ad4eec9d757868a8322c69",
            "a39684621e2e43709e5c88e927967bd9",
            "88dfb654d05c4c94bbe64edd548b7601",
            "6e31f1199c35489a9c0f94bfdf67a860",
            "ab7bcafd371b44978ab8f132736786dd",
            "44b89fd99072471a86f77b44f8e74734",
            "30d1180e5ed64419a3ccd956d727f233",
            "c43c973b5def464db89ab5ec4a53fc02"
          ]
        },
        "id": "XJXxLwxcFE1H",
        "outputId": "d4712bf2-22e2-432a-92d1-20f9068fdb78"
      },
      "source": [
        "from flood_forecast.trainer import train_function\n",
        "import wandb\n",
        "import pandas as pd\n",
        "wandb.init()\n",
        "data[\"inference_params\"] = {\n",
        "    \"test_csv_path\": \"/content/flow-forecast/09405500AZC_flow.csv\",\n",
        "    \"decoder_params\":{\n",
        "              \"decoder_function\": \"simple_decode\", \n",
        "            \"unsqueeze_dim\": 1\n",
        "          },\n",
        "    \"datetime_start\":\"2020-05-09\",\n",
        "          \"hours_to_forecast\":15, \n",
        "          \"num_prediction_samples\": 100,\n",
        "}\n",
        "data[\"dataset_params\"][\"class\"] = \"default\"\n",
        "data[\"epochs\"] = 20\n",
        "data[\"dataset_params\"][\"forecast_length\"] = 10\n",
        "data[\"dataset_params\"][\"training_path\"] = \"/content/flow-forecast/09405500AZC_flow.csv\"\n",
        "data[\"dataset_params\"][\"validation_path\"] = \"/content/flow-forecast/09405500AZC_flow.csv\"\n",
        "data[\"dataset_params\"][\"test_path\"] = \"/content/flow-forecast/09405500AZC_flow.csv\"\n",
        "data[\"training_params\"][\"batch_size\"] = 100\n"
      ],
      "execution_count": 115,
      "outputs": [
        {
          "output_type": "display_data",
          "data": {
            "text/html": [
              "Finishing last run (ID:3jc9pgm2) before initializing another..."
            ],
            "text/plain": [
              "<IPython.core.display.HTML object>"
            ]
          },
          "metadata": {}
        },
        {
          "output_type": "display_data",
          "data": {
            "text/html": [
              "<br/>Waiting for W&B process to finish, PID 2078... <strong style=\"color:green\">(success).</strong>"
            ],
            "text/plain": [
              "<IPython.core.display.HTML object>"
            ]
          },
          "metadata": {}
        },
        {
          "output_type": "display_data",
          "data": {
            "application/vnd.jupyter.widget-view+json": {
              "model_id": "207b029477ad4eec9d757868a8322c69",
              "version_minor": 0,
              "version_major": 2
            },
            "text/plain": [
              "VBox(children=(Label(value=' 0.15MB of 0.15MB uploaded (0.00MB deduped)\\r'), FloatProgress(value=1.0, max=1.0)…"
            ]
          },
          "metadata": {}
        },
        {
          "output_type": "display_data",
          "data": {
            "text/html": [
              "<style>\n",
              "    table.wandb td:nth-child(1) { padding: 0 10px; text-align: right }\n",
              "    .wandb-row { display: flex; flex-direction: row; flex-wrap: wrap; width: 100% }\n",
              "    .wandb-col { display: flex; flex-direction: column; flex-basis: 100%; flex: 1; padding: 10px; }\n",
              "    </style>\n",
              "<div class=\"wandb-row\"><div class=\"wandb-col\">\n",
              "</div><div class=\"wandb-col\">\n",
              "</div></div>\n",
              "Synced 5 W&B file(s), 4 media file(s), 0 artifact file(s) and 0 other file(s)\n",
              "<br/>Synced <strong style=\"color:#cdcd00\">06-14-11/14/21-2021_prod</strong>: <a href=\"https://wandb.ai/igodfried/eeqwjipfejiowq3grhiu8y7134rewuiho/runs/3jc9pgm2\" target=\"_blank\">https://wandb.ai/igodfried/eeqwjipfejiowq3grhiu8y7134rewuiho/runs/3jc9pgm2</a><br/>\n",
              "Find logs at: <code>./wandb/run-20211114_061405-3jc9pgm2/logs</code><br/>\n"
            ],
            "text/plain": [
              "<IPython.core.display.HTML object>"
            ]
          },
          "metadata": {}
        },
        {
          "output_type": "display_data",
          "data": {
            "text/html": [
              "Successfully finished last run (ID:3jc9pgm2). Initializing new run:<br/>"
            ],
            "text/plain": [
              "<IPython.core.display.HTML object>"
            ]
          },
          "metadata": {}
        },
        {
          "output_type": "display_data",
          "data": {
            "text/html": [
              "\n",
              "                    Syncing run <strong><a href=\"https://wandb.ai/igodfried/flow-forecast/runs/1y13zro6\" target=\"_blank\">glad-pine-179</a></strong> to <a href=\"https://wandb.ai/igodfried/flow-forecast\" target=\"_blank\">Weights & Biases</a> (<a href=\"https://docs.wandb.com/integrations/jupyter.html\" target=\"_blank\">docs</a>).<br/>\n",
              "\n",
              "                "
            ],
            "text/plain": [
              "<IPython.core.display.HTML object>"
            ]
          },
          "metadata": {}
        }
      ]
    },
    {
      "cell_type": "code",
      "metadata": {
        "id": "k5v0v1PyGDcD"
      },
      "source": [
        "df = pd.read_csv(\"09405500AZC_flow.csv\")\n",
        "df = df.dropna(subset=[\"hour_updated\", \"cfs\", \"p01m\", \"tmpf\", \"dwpf\"])\n",
        "df.to_csv(\"09405500AZC_flow.csv\")"
      ],
      "execution_count": 116,
      "outputs": []
    },
    {
      "cell_type": "code",
      "metadata": {
        "colab": {
          "base_uri": "https://localhost:8080/"
        },
        "id": "IiEhU0RwJ-9k",
        "outputId": "389e71db-59c4-454a-99ba-6a226afff121"
      },
      "source": [
        "t = train_function(\"PyTorch\", data)"
      ],
      "execution_count": null,
      "outputs": [
        {
          "output_type": "stream",
          "name": "stdout",
          "text": [
            "Weights sucessfully loaded\n",
            "interpolate should be below\n",
            "[]\n",
            "Now loading /content/flow-forecast/09405500AZC_flow.csv\n",
            "scaling now\n",
            "interpolate should be below\n",
            "[]\n",
            "Now loading /content/flow-forecast/09405500AZC_flow.csv\n",
            "scaling now\n",
            "interpolate should be below\n",
            "[]\n",
            "Now loading /content/flow-forecast/09405500AZC_flow.csv\n",
            "scaling now\n",
            "Using Wandb config:\n",
            "{}\n",
            "Torch is using cpu\n",
            "Using generic dataset params\n",
            "running torch_single_train\n",
            "The running loss is: \n",
            "271.74462132155895\n",
            "The number of items in train is: 300\n",
            "The loss for epoch 0\n",
            "0.9058154044051965\n",
            "Computing validation loss\n",
            "running torch_single_train\n",
            "The running loss is: \n",
            "211.02890829741955\n",
            "The number of items in train is: 300\n",
            "The loss for epoch 1\n",
            "0.7034296943247318\n",
            "Computing validation loss\n",
            "running torch_single_train\n",
            "The running loss is: \n",
            "201.40707471966743\n",
            "The number of items in train is: 300\n",
            "The loss for epoch 2\n",
            "0.6713569157322248\n",
            "Computing validation loss\n",
            "running torch_single_train\n",
            "The running loss is: \n",
            "196.50829488039017\n",
            "The number of items in train is: 300\n",
            "The loss for epoch 3\n",
            "0.6550276496013006\n",
            "Computing validation loss\n",
            "running torch_single_train\n"
          ]
        }
      ]
    },
    {
      "cell_type": "code",
      "metadata": {
        "id": "XtmQQH2yD79-"
      },
      "source": [
        "from flood_forecast.deployment.inference import InferenceMode\n",
        "t.params[\"dataset_params\"][\"scaler\"] = \"StandardScaler\"\n",
        "t.params[\"inference_params\"][\"dataset_params\"][\"scaler\"] = \"Standard_Scaerr\"\n",
        "t.params[\"inference_params\"][\"dataset_params\"][\"scaling\"] = \"StandardScaler\""
      ],
      "execution_count": 109,
      "outputs": []
    },
    {
      "cell_type": "code",
      "metadata": {
        "colab": {
          "base_uri": "https://localhost:8080/",
          "height": 1000,
          "referenced_widgets": [
            "dd320068806a462ea1cc890dd72f1390",
            "0326cd48cd9d481dab7d32ac7f00892b",
            "07677844eaec47a789f1c38fcb540fa8",
            "45b13f04d0354f9ab88ecf8818ba8479",
            "15bfe108e12f49cda129d3685e3be912",
            "c2630b9661eb421ca273b0f7bf28d0d1",
            "74d4ce5d502d4dce83c9d264927aacaa",
            "0842b7efd00b49c2aacff5d66e728f07",
            "6aaf19f8807d4047a9e5bcf94906fb52",
            "ae09a0291997462ca39b90c64b820e22",
            "542bcf4a8b4d4a58940cb861ae5824fb",
            "f59c7a657a7346d1a981bc8635696e7c",
            "ec93dd6cdb764b69a56cb75e3699d8d1",
            "9616d8f6957646d182787566facbe869",
            "c653f5a55475456bbf4efed243fd33a3",
            "54b9ae47607240f6b00bd26aaaaf3b0f"
          ]
        },
        "id": "QPvlF3t3EBJD",
        "outputId": "e1dea9b4-908f-4315-bd59-70716a7d1959"
      },
      "source": [
        "a1 = InferenceMode(336, 30, t.params, \"/content/flow-forecast/09405500AZC_flow.csv\", \"/content/flow-forecast/10_November_202102_15PM_model.pth\", \"eeqwjipfejiowq3grhiu8y7134rewuiho\")\n",
        "a1.make_plots(datetime(2020, 3, 13))"
      ],
      "execution_count": 110,
      "outputs": [
        {
          "output_type": "stream",
          "name": "stdout",
          "text": [
            "Weights sucessfully loaded\n",
            "interpolate should be below\n",
            "[]\n",
            "Now loading /content/flow-forecast/09405500AZC_flow.csv\n",
            "scaling now\n",
            "interpolate should be below\n",
            "[]\n",
            "Now loading /content/flow-forecast/09405500AZC_flow.csv\n",
            "scaling now\n",
            "interpolate should be below\n",
            "[]\n",
            "Now loading /content/flow-forecast/09405500AZC_flow.csv\n",
            "scaling now\n"
          ]
        },
        {
          "output_type": "display_data",
          "data": {
            "text/html": [
              "Finishing last run (ID:3rk3hbv4) before initializing another..."
            ],
            "text/plain": [
              "<IPython.core.display.HTML object>"
            ]
          },
          "metadata": {}
        },
        {
          "output_type": "display_data",
          "data": {
            "text/html": [
              "<br/>Waiting for W&B process to finish, PID 1988... <strong style=\"color:green\">(success).</strong>"
            ],
            "text/plain": [
              "<IPython.core.display.HTML object>"
            ]
          },
          "metadata": {}
        },
        {
          "output_type": "display_data",
          "data": {
            "application/vnd.jupyter.widget-view+json": {
              "model_id": "dd320068806a462ea1cc890dd72f1390",
              "version_minor": 0,
              "version_major": 2
            },
            "text/plain": [
              "VBox(children=(Label(value=' 0.00MB of 0.00MB uploaded (0.00MB deduped)\\r'), FloatProgress(value=1.0, max=1.0)…"
            ]
          },
          "metadata": {}
        },
        {
          "output_type": "display_data",
          "data": {
            "text/html": [
              "<style>\n",
              "    table.wandb td:nth-child(1) { padding: 0 10px; text-align: right }\n",
              "    .wandb-row { display: flex; flex-direction: row; flex-wrap: wrap; width: 100% }\n",
              "    .wandb-col { display: flex; flex-direction: column; flex-basis: 100%; flex: 1; padding: 10px; }\n",
              "    </style>\n",
              "<div class=\"wandb-row\"><div class=\"wandb-col\">\n",
              "</div><div class=\"wandb-col\">\n",
              "</div></div>\n",
              "Synced 5 W&B file(s), 0 media file(s), 0 artifact file(s) and 0 other file(s)\n",
              "<br/>Synced <strong style=\"color:#cdcd00\">dark-dust-5</strong>: <a href=\"https://wandb.ai/igodfried/ome_shit/runs/3rk3hbv4\" target=\"_blank\">https://wandb.ai/igodfried/ome_shit/runs/3rk3hbv4</a><br/>\n",
              "Find logs at: <code>./wandb/run-20211114_061237-3rk3hbv4/logs</code><br/>\n"
            ],
            "text/plain": [
              "<IPython.core.display.HTML object>"
            ]
          },
          "metadata": {}
        },
        {
          "output_type": "display_data",
          "data": {
            "text/html": [
              "Successfully finished last run (ID:3rk3hbv4). Initializing new run:<br/>"
            ],
            "text/plain": [
              "<IPython.core.display.HTML object>"
            ]
          },
          "metadata": {}
        },
        {
          "output_type": "display_data",
          "data": {
            "text/html": [
              "\n",
              "                    Syncing run <strong><a href=\"https://wandb.ai/igodfried/ome_shit/runs/cjznfj1x\" target=\"_blank\">hardy-grass-6</a></strong> to <a href=\"https://wandb.ai/igodfried/ome_shit\" target=\"_blank\">Weights & Biases</a> (<a href=\"https://docs.wandb.com/integrations/jupyter.html\" target=\"_blank\">docs</a>).<br/>\n",
              "\n",
              "                "
            ],
            "text/plain": [
              "<IPython.core.display.HTML object>"
            ]
          },
          "metadata": {}
        },
        {
          "output_type": "stream",
          "name": "stdout",
          "text": [
            "Torch is using cpu\n"
          ]
        },
        {
          "output_type": "display_data",
          "data": {
            "text/html": [
              "Finishing last run (ID:cjznfj1x) before initializing another..."
            ],
            "text/plain": [
              "<IPython.core.display.HTML object>"
            ]
          },
          "metadata": {}
        },
        {
          "output_type": "display_data",
          "data": {
            "text/html": [
              "<br/>Waiting for W&B process to finish, PID 2040... <strong style=\"color:green\">(success).</strong>"
            ],
            "text/plain": [
              "<IPython.core.display.HTML object>"
            ]
          },
          "metadata": {}
        },
        {
          "output_type": "display_data",
          "data": {
            "application/vnd.jupyter.widget-view+json": {
              "model_id": "6aaf19f8807d4047a9e5bcf94906fb52",
              "version_minor": 0,
              "version_major": 2
            },
            "text/plain": [
              "VBox(children=(Label(value=' 0.00MB of 0.00MB uploaded (0.00MB deduped)\\r'), FloatProgress(value=1.0, max=1.0)…"
            ]
          },
          "metadata": {}
        },
        {
          "output_type": "display_data",
          "data": {
            "text/html": [
              "<style>\n",
              "    table.wandb td:nth-child(1) { padding: 0 10px; text-align: right }\n",
              "    .wandb-row { display: flex; flex-direction: row; flex-wrap: wrap; width: 100% }\n",
              "    .wandb-col { display: flex; flex-direction: column; flex-basis: 100%; flex: 1; padding: 10px; }\n",
              "    </style>\n",
              "<div class=\"wandb-row\"><div class=\"wandb-col\">\n",
              "</div><div class=\"wandb-col\">\n",
              "</div></div>\n",
              "Synced 5 W&B file(s), 0 media file(s), 0 artifact file(s) and 0 other file(s)\n",
              "<br/>Synced <strong style=\"color:#cdcd00\">hardy-grass-6</strong>: <a href=\"https://wandb.ai/igodfried/ome_shit/runs/cjznfj1x\" target=\"_blank\">https://wandb.ai/igodfried/ome_shit/runs/cjznfj1x</a><br/>\n",
              "Find logs at: <code>./wandb/run-20211114_061357-cjznfj1x/logs</code><br/>\n"
            ],
            "text/plain": [
              "<IPython.core.display.HTML object>"
            ]
          },
          "metadata": {}
        },
        {
          "output_type": "display_data",
          "data": {
            "text/html": [
              "Successfully finished last run (ID:cjznfj1x). Initializing new run:<br/>"
            ],
            "text/plain": [
              "<IPython.core.display.HTML object>"
            ]
          },
          "metadata": {}
        },
        {
          "output_type": "display_data",
          "data": {
            "text/html": [
              "\n",
              "                    Syncing run <strong><a href=\"https://wandb.ai/igodfried/eeqwjipfejiowq3grhiu8y7134rewuiho/runs/3jc9pgm2\" target=\"_blank\">06-14-11/14/21-2021_prod</a></strong> to <a href=\"https://wandb.ai/igodfried/eeqwjipfejiowq3grhiu8y7134rewuiho\" target=\"_blank\">Weights & Biases</a> (<a href=\"https://docs.wandb.com/integrations/jupyter.html\" target=\"_blank\">docs</a>).<br/>\n",
              "\n",
              "                "
            ],
            "text/plain": [
              "<IPython.core.display.HTML object>"
            ]
          },
          "metadata": {}
        },
        {
          "output_type": "stream",
          "name": "stdout",
          "text": [
            "This model is currently forecasting for: 4 targets\n",
            "interpolate should be below\n",
            "[]\n",
            "Now loading /content/flow-forecast/09405500AZC_flow.csv\n",
            "scaling now\n",
            "CSV Path below\n",
            "/content/flow-forecast/09405500AZC_flow.csv\n",
            "Add debugging crap below\n",
            "Add debugging crap below\n",
            "Add debugging crap below\n",
            "Add debugging crap below\n",
            "Add debugging crap below\n",
            "Add debugging crap below\n",
            "Add debugging crap below\n",
            "Add debugging crap below\n",
            "Add debugging crap below\n",
            "Add debugging crap below\n",
            "Add debugging crap below\n",
            "Add debugging crap below\n",
            "Add debugging crap below\n",
            "Add debugging crap below\n",
            "Add debugging crap below\n",
            "Add debugging crap below\n",
            "Add debugging crap below\n",
            "Add debugging crap below\n",
            "Add debugging crap below\n",
            "Add debugging crap below\n",
            "Add debugging crap below\n",
            "Add debugging crap below\n",
            "Add debugging crap below\n",
            "Add debugging crap below\n",
            "Add debugging crap below\n",
            "Add debugging crap below\n",
            "Add debugging crap below\n",
            "Add debugging crap below\n",
            "Add debugging crap below\n",
            "Add debugging crap below\n",
            "Add debugging crap below\n",
            "(4, 336, 1, 30)\n",
            "Shape of unscaled is: \n",
            "torch.Size([1, 336, 4])\n",
            "Shape of unscaled is: \n",
            "torch.Size([1, 336, 4])\n",
            "Shape of unscaled is: \n",
            "torch.Size([1, 336, 4])\n",
            "Shape of unscaled is: \n",
            "torch.Size([1, 336, 4])\n",
            "plotting with CI now\n",
            "plotting with CI now\n",
            "plotting with CI now\n",
            "plotting with CI now\n"
          ]
        },
        {
          "output_type": "stream",
          "name": "stderr",
          "text": [
            "/content/flow-forecast/flood_forecast/deployment/inference.py:75: SettingWithCopyWarning:\n",
            "\n",
            "\n",
            "A value is trying to be set on a copy of a slice from a DataFrame\n",
            "\n",
            "See the caveats in the documentation: https://pandas.pydata.org/pandas-docs/stable/user_guide/indexing.html#returning-a-view-versus-a-copy\n",
            "\n"
          ]
        },
        {
          "output_type": "execute_result",
          "data": {
            "text/plain": [
              "(tensor([[[-0.2552, -0.1520, -0.1077,  0.7087],\n",
              "          [-0.2457, -0.1349, -0.1228,  0.7081],\n",
              "          [-0.2599, -0.1387, -0.1405,  0.7179],\n",
              "          ...,\n",
              "          [-0.5028, -0.1225, -0.1745,  1.1837],\n",
              "          [-0.4955, -0.1213, -0.1619,  1.1982],\n",
              "          [-0.5277, -0.1527, -0.1587,  1.2217]]]),\n",
              " 10,\n",
              " <flood_forecast.preprocessing.pytorch_loaders.CSVTestLoader at 0x7f0d217f3410>,\n",
              " Figure({\n",
              "     'data': [{'name': 'preds',\n",
              "               'type': 'scatter',\n",
              "               'x': array([51679, 51680, 51681, ..., 52022, 52023, 52024]),\n",
              "               'y': array([ 0.        ,  0.        ,  0.        , ..., 45.95415497, 46.13995743,\n",
              "                           46.44147873])},\n",
              "              {'name': 'dwpf',\n",
              "               'type': 'scatter',\n",
              "               'x': array([51679, 51680, 51681, ..., 52022, 52023, 52024]),\n",
              "               'y': array([37.4, 37.4, 42.2, ..., 15.2, 17.6, 16.4])},\n",
              "              {'fill': 'toself',\n",
              "               'name': '95% confidence interval',\n",
              "               'type': 'scatter',\n",
              "               'x': [51679, 51680, 51681, ..., 51681, 51680, 51679],\n",
              "               'y': [0.0, 0.0, 0.0, ..., 0.0, 0.0, 0.0]},\n",
              "              {'name': 'pred_start', 'type': 'scatter', 'x': [51689, 51689], 'y': [0.0, 47.0]}],\n",
              "     'layout': {'template': '...'}\n",
              " }))"
            ]
          },
          "metadata": {},
          "execution_count": 110
        }
      ]
    },
    {
      "cell_type": "code",
      "metadata": {
        "colab": {
          "base_uri": "https://localhost:8080/"
        },
        "id": "5zGIuCXtFfK-",
        "outputId": "de73a648-5b31-43c2-8087-2a0c7ebdc15d"
      },
      "source": [
        "a1.make_plots(datetime(2020, 3, 13), wandb_plot_id=\"3013012\")"
      ],
      "execution_count": 114,
      "outputs": [
        {
          "output_type": "stream",
          "name": "stdout",
          "text": [
            "This model is currently forecasting for: 4 targets\n",
            "interpolate should be below\n",
            "[]\n",
            "Now loading /content/flow-forecast/09405500AZC_flow.csv\n",
            "scaling now\n",
            "CSV Path below\n",
            "/content/flow-forecast/09405500AZC_flow.csv\n",
            "Add debugging crap below\n",
            "Add debugging crap below\n",
            "Add debugging crap below\n",
            "Add debugging crap below\n",
            "Add debugging crap below\n",
            "Add debugging crap below\n",
            "Add debugging crap below\n",
            "Add debugging crap below\n",
            "Add debugging crap below\n",
            "Add debugging crap below\n",
            "Add debugging crap below\n",
            "Add debugging crap below\n",
            "Add debugging crap below\n",
            "Add debugging crap below\n",
            "Add debugging crap below\n",
            "Add debugging crap below\n",
            "Add debugging crap below\n",
            "Add debugging crap below\n",
            "Add debugging crap below\n",
            "Add debugging crap below\n",
            "Add debugging crap below\n",
            "Add debugging crap below\n",
            "Add debugging crap below\n",
            "Add debugging crap below\n",
            "Add debugging crap below\n",
            "Add debugging crap below\n",
            "Add debugging crap below\n",
            "Add debugging crap below\n",
            "Add debugging crap below\n",
            "Add debugging crap below\n",
            "Add debugging crap below\n",
            "(4, 336, 1, 30)\n",
            "Shape of unscaled is: \n",
            "torch.Size([1, 336, 4])\n",
            "Shape of unscaled is: \n",
            "torch.Size([1, 336, 4])\n",
            "Shape of unscaled is: \n",
            "torch.Size([1, 336, 4])\n"
          ]
        },
        {
          "output_type": "stream",
          "name": "stderr",
          "text": [
            "/content/flow-forecast/flood_forecast/deployment/inference.py:75: SettingWithCopyWarning:\n",
            "\n",
            "\n",
            "A value is trying to be set on a copy of a slice from a DataFrame\n",
            "\n",
            "See the caveats in the documentation: https://pandas.pydata.org/pandas-docs/stable/user_guide/indexing.html#returning-a-view-versus-a-copy\n",
            "\n"
          ]
        },
        {
          "output_type": "stream",
          "name": "stdout",
          "text": [
            "Shape of unscaled is: \n",
            "torch.Size([1, 336, 4])\n",
            "plotting with CI now\n",
            "plotting with CI now\n",
            "plotting with CI now\n",
            "plotting with CI now\n"
          ]
        },
        {
          "output_type": "execute_result",
          "data": {
            "text/plain": [
              "(tensor([[[-0.2552, -0.1520, -0.1077,  0.7087],\n",
              "          [-0.2457, -0.1349, -0.1228,  0.7081],\n",
              "          [-0.2599, -0.1387, -0.1405,  0.7179],\n",
              "          ...,\n",
              "          [-0.5028, -0.1225, -0.1745,  1.1837],\n",
              "          [-0.4955, -0.1213, -0.1619,  1.1982],\n",
              "          [-0.5277, -0.1527, -0.1587,  1.2217]]]),\n",
              " 10,\n",
              " <flood_forecast.preprocessing.pytorch_loaders.CSVTestLoader at 0x7f0d2434fe10>,\n",
              " Figure({\n",
              "     'data': [{'name': 'preds',\n",
              "               'type': 'scatter',\n",
              "               'x': array([51679, 51680, 51681, ..., 52022, 52023, 52024]),\n",
              "               'y': array([ 0.        ,  0.        ,  0.        , ..., 45.95415497, 46.13995743,\n",
              "                           46.44147873])},\n",
              "              {'name': 'dwpf',\n",
              "               'type': 'scatter',\n",
              "               'x': array([51679, 51680, 51681, ..., 52022, 52023, 52024]),\n",
              "               'y': array([37.4, 37.4, 42.2, ..., 15.2, 17.6, 16.4])},\n",
              "              {'fill': 'toself',\n",
              "               'name': '95% confidence interval',\n",
              "               'type': 'scatter',\n",
              "               'x': [51679, 51680, 51681, ..., 51681, 51680, 51679],\n",
              "               'y': [0.0, 0.0, 0.0, ..., 0.0, 0.0, 0.0]},\n",
              "              {'name': 'pred_start', 'type': 'scatter', 'x': [51689, 51689], 'y': [0.0, 47.0]}],\n",
              "     'layout': {'template': '...'}\n",
              " }))"
            ]
          },
          "metadata": {},
          "execution_count": 114
        }
      ]
    }
  ]
}